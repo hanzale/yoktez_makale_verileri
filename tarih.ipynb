{
 "cells": [
  {
   "cell_type": "markdown",
   "metadata": {},
   "source": [
    "# Exploratory Data Analysis\n",
    "___\n",
    "### YOK Tez Veri Tabanı | Sosyal ve Beşeri Bilimler Çalışmaları Giriş İncelemesi\n",
    "\n",
    "Çalışmanın amacı Türkiye'de Sosyal Bilimler alanında yapılmış lisansüstü çalışmalara ilişkin bir metod araştırmasına veri sağlamaktır.\n",
    "Bu sayfa veriyi tanımak üzere yapılan keşif çalışmasını (EDA | Exploratory Data Analysis) içerir.\n",
    "\n",
    "1. Veri içeriğinde sosyal bilimler çalışmalarını filtreleyebilecek alanların tespit edilmesi.\n",
    "2. Elde edilen çalışmalar içerisindeki trendlerin belirlenmesi"
   ]
  },
  {
   "cell_type": "code",
   "execution_count": 1,
   "metadata": {
    "jupyter": {
     "source_hidden": true
    },
    "slideshow": {
     "slide_type": "skip"
    }
   },
   "outputs": [],
   "source": [
    "#visualization\n",
    "import matplotlib.pyplot as plt\n",
    "import seaborn as sns\n",
    "import plotly\n",
    "import plotly.express as px\n",
    "from plotly import graph_objects as go\n",
    "from plotly.subplots import make_subplots\n",
    "\n",
    "#analysis & data manuplation\n",
    "import re\n",
    "import json\n",
    "import numpy as np\n",
    "import pandas as pd\n",
    "from scipy.io import mmread"
   ]
  },
  {
   "cell_type": "code",
   "execution_count": 2,
   "metadata": {
    "jupyter": {
     "source_hidden": true
    },
    "slideshow": {
     "slide_type": "slide"
    }
   },
   "outputs": [],
   "source": [
    "#import the data and format the sb\n",
    "def matrix_reader():\n",
    "    co_occurrence_matrix = mmread(source=\"../yoktez/database/whole_matrix.mtx\")\n",
    "    main_df = pd.read_pickle('../yoktez/database/main_db_whole.pickle')\n",
    "    \n",
    "    main_df.yıl = pd.to_datetime( main_df.yıl, yearfirst=True, format='%Y' ).dt.year\n",
    "    #export  the reference word_list from the sb\n",
    "\n",
    "    main_df['dizin'] = main_df.dizin_tr.loc[main_df.dizin_tr.notna()].str.split(';').apply(lambda x: [i.strip() for i in x])\n",
    "    dizin = main_df.dizin_tr.loc[main_df.dizin_tr.notna()].str.split(';')\n",
    "\n",
    "    word_list = list( set( [ kelime.strip() for liste in dizin for kelime in liste ] ) )\n",
    "    word_list.remove('')\n",
    "    word_list.sort()\n",
    "\n",
    "    return co_occurrence_matrix, word_list, main_df\n",
    "matrix, word_list, df = matrix_reader()"
   ]
  },
  {
   "cell_type": "code",
   "execution_count": 3,
   "metadata": {
    "jupyter": {
     "source_hidden": true
    },
    "slideshow": {
     "slide_type": "slide"
    }
   },
   "outputs": [
    {
     "data": {
      "text/plain": [
       "count                          707279\n",
       "unique                            226\n",
       "top        Sosyal Bilimler Enstitüsü \n",
       "freq                           232765\n",
       "Name: enstitü, dtype: object"
      ]
     },
     "metadata": {},
     "output_type": "display_data"
    }
   ],
   "source": [
    "df['enstitü'] = df.enstitü.dropna()\n",
    "display(df.enstitü.describe())"
   ]
  },
  {
   "cell_type": "markdown",
   "metadata": {},
   "source": [
    "Enstitüler"
   ]
  },
  {
   "cell_type": "code",
   "execution_count": 9,
   "metadata": {
    "jupyter": {
     "source_hidden": true
    },
    "slideshow": {
     "slide_type": "slide"
    },
    "tags": []
   },
   "outputs": [
    {
     "data": {
      "text/html": [
       "<style type=\"text/css\">\n",
       "#T_98f61_row0_col0, #T_98f61_row0_col1, #T_98f61_row0_col2, #T_98f61_row0_col3, #T_98f61_row0_col4, #T_98f61_row0_col5, #T_98f61_row0_col6, #T_98f61_row1_col0, #T_98f61_row1_col1, #T_98f61_row1_col2, #T_98f61_row1_col3, #T_98f61_row1_col4, #T_98f61_row1_col5, #T_98f61_row1_col6, #T_98f61_row1_col7, #T_98f61_row1_col8, #T_98f61_row1_col9, #T_98f61_row2_col0, #T_98f61_row2_col1, #T_98f61_row2_col2, #T_98f61_row2_col3, #T_98f61_row2_col4, #T_98f61_row2_col5, #T_98f61_row2_col6, #T_98f61_row2_col7, #T_98f61_row2_col8, #T_98f61_row2_col9, #T_98f61_row3_col0, #T_98f61_row3_col5, #T_98f61_row3_col9, #T_98f61_row4_col0, #T_98f61_row4_col1, #T_98f61_row4_col2, #T_98f61_row4_col3, #T_98f61_row4_col4, #T_98f61_row4_col5, #T_98f61_row4_col7, #T_98f61_row4_col8, #T_98f61_row4_col9, #T_98f61_row5_col0, #T_98f61_row5_col1, #T_98f61_row5_col3, #T_98f61_row5_col4, #T_98f61_row5_col5, #T_98f61_row5_col6, #T_98f61_row5_col7, #T_98f61_row5_col8, #T_98f61_row5_col9, #T_98f61_row6_col0, #T_98f61_row6_col1, #T_98f61_row6_col2, #T_98f61_row6_col3, #T_98f61_row6_col4, #T_98f61_row6_col5, #T_98f61_row6_col6, #T_98f61_row6_col7, #T_98f61_row6_col8, #T_98f61_row6_col9, #T_98f61_row7_col1, #T_98f61_row7_col2, #T_98f61_row7_col4, #T_98f61_row7_col6, #T_98f61_row7_col7, #T_98f61_row7_col8, #T_98f61_row7_col9, #T_98f61_row8_col0, #T_98f61_row8_col1, #T_98f61_row8_col2, #T_98f61_row8_col4, #T_98f61_row8_col5, #T_98f61_row8_col6, #T_98f61_row8_col7, #T_98f61_row9_col1, #T_98f61_row9_col2, #T_98f61_row9_col3, #T_98f61_row9_col4, #T_98f61_row9_col5, #T_98f61_row9_col6, #T_98f61_row9_col7, #T_98f61_row9_col8, #T_98f61_row9_col9, #T_98f61_row10_col0, #T_98f61_row10_col1, #T_98f61_row10_col2, #T_98f61_row10_col3, #T_98f61_row10_col4, #T_98f61_row10_col6, #T_98f61_row10_col7, #T_98f61_row10_col8, #T_98f61_row10_col9, #T_98f61_row11_col0, #T_98f61_row11_col1, #T_98f61_row11_col6, #T_98f61_row11_col7, #T_98f61_row11_col9, #T_98f61_row12_col0, #T_98f61_row12_col2, #T_98f61_row12_col3, #T_98f61_row12_col4, #T_98f61_row12_col7, #T_98f61_row12_col8, #T_98f61_row13_col0, #T_98f61_row13_col2, #T_98f61_row13_col3, #T_98f61_row13_col8, #T_98f61_row13_col9, #T_98f61_row14_col0, #T_98f61_row14_col1, #T_98f61_row14_col2, #T_98f61_row14_col3, #T_98f61_row14_col4, #T_98f61_row14_col5, #T_98f61_row14_col6, #T_98f61_row14_col7, #T_98f61_row14_col8, #T_98f61_row14_col9, #T_98f61_row15_col0, #T_98f61_row15_col1, #T_98f61_row15_col2, #T_98f61_row15_col3, #T_98f61_row15_col4, #T_98f61_row15_col5, #T_98f61_row15_col6, #T_98f61_row15_col7, #T_98f61_row15_col8, #T_98f61_row16_col1, #T_98f61_row16_col2, #T_98f61_row16_col4, #T_98f61_row16_col5, #T_98f61_row16_col6, #T_98f61_row16_col7, #T_98f61_row17_col2, #T_98f61_row17_col4, #T_98f61_row17_col5, #T_98f61_row17_col6, #T_98f61_row17_col8, #T_98f61_row17_col9, #T_98f61_row18_col0, #T_98f61_row18_col3, #T_98f61_row18_col4, #T_98f61_row18_col5, #T_98f61_row18_col6, #T_98f61_row18_col8, #T_98f61_row19_col1, #T_98f61_row19_col2, #T_98f61_row19_col3, #T_98f61_row19_col4, #T_98f61_row19_col5, #T_98f61_row19_col6, #T_98f61_row19_col7, #T_98f61_row19_col8, #T_98f61_row19_col9, #T_98f61_row20_col0, #T_98f61_row20_col1, #T_98f61_row20_col2, #T_98f61_row20_col3, #T_98f61_row20_col4, #T_98f61_row20_col5, #T_98f61_row20_col6, #T_98f61_row20_col7, #T_98f61_row20_col8, #T_98f61_row20_col9, #T_98f61_row21_col0, #T_98f61_row21_col1, #T_98f61_row21_col2, #T_98f61_row21_col3, #T_98f61_row21_col4, #T_98f61_row21_col5, #T_98f61_row21_col6, #T_98f61_row21_col7, #T_98f61_row21_col8, #T_98f61_row21_col9, #T_98f61_row22_col0, #T_98f61_row22_col1, #T_98f61_row22_col2, #T_98f61_row22_col3, #T_98f61_row22_col4, #T_98f61_row22_col5, #T_98f61_row22_col6, #T_98f61_row22_col7, #T_98f61_row22_col8, #T_98f61_row22_col9 {\n",
       "  opacity: 30%;\n",
       "}\n",
       "#T_98f61_row0_col7, #T_98f61_row0_col8, #T_98f61_row0_col9, #T_98f61_row3_col1, #T_98f61_row3_col2, #T_98f61_row3_col3, #T_98f61_row3_col4, #T_98f61_row3_col6, #T_98f61_row3_col7, #T_98f61_row3_col8, #T_98f61_row4_col6, #T_98f61_row5_col2, #T_98f61_row7_col3, #T_98f61_row7_col5, #T_98f61_row8_col3, #T_98f61_row8_col8, #T_98f61_row8_col9, #T_98f61_row9_col0, #T_98f61_row10_col5, #T_98f61_row11_col2, #T_98f61_row11_col3, #T_98f61_row11_col4, #T_98f61_row11_col5, #T_98f61_row11_col8, #T_98f61_row12_col1, #T_98f61_row12_col5, #T_98f61_row12_col6, #T_98f61_row12_col9, #T_98f61_row13_col4, #T_98f61_row13_col5, #T_98f61_row13_col6, #T_98f61_row13_col7, #T_98f61_row16_col0, #T_98f61_row16_col3, #T_98f61_row16_col8, #T_98f61_row16_col9, #T_98f61_row17_col0, #T_98f61_row17_col1, #T_98f61_row17_col3, #T_98f61_row17_col7, #T_98f61_row18_col1, #T_98f61_row18_col2, #T_98f61_row18_col7, #T_98f61_row18_col9, #T_98f61_row19_col0 {\n",
       "  color: black;\n",
       "  background-color: yellow;\n",
       "}\n",
       "#T_98f61_row7_col0, #T_98f61_row13_col1, #T_98f61_row15_col9 {\n",
       "  background-color: green;\n",
       "}\n",
       "</style>\n",
       "<table id=\"T_98f61\">\n",
       "  <thead>\n",
       "    <tr>\n",
       "      <th class=\"blank level0\" >&nbsp;</th>\n",
       "      <th id=\"T_98f61_level0_col0\" class=\"col_heading level0 col0\" >0</th>\n",
       "      <th id=\"T_98f61_level0_col1\" class=\"col_heading level0 col1\" >1</th>\n",
       "      <th id=\"T_98f61_level0_col2\" class=\"col_heading level0 col2\" >2</th>\n",
       "      <th id=\"T_98f61_level0_col3\" class=\"col_heading level0 col3\" >3</th>\n",
       "      <th id=\"T_98f61_level0_col4\" class=\"col_heading level0 col4\" >4</th>\n",
       "      <th id=\"T_98f61_level0_col5\" class=\"col_heading level0 col5\" >5</th>\n",
       "      <th id=\"T_98f61_level0_col6\" class=\"col_heading level0 col6\" >6</th>\n",
       "      <th id=\"T_98f61_level0_col7\" class=\"col_heading level0 col7\" >7</th>\n",
       "      <th id=\"T_98f61_level0_col8\" class=\"col_heading level0 col8\" >8</th>\n",
       "      <th id=\"T_98f61_level0_col9\" class=\"col_heading level0 col9\" >9</th>\n",
       "    </tr>\n",
       "  </thead>\n",
       "  <tbody>\n",
       "    <tr>\n",
       "      <th id=\"T_98f61_level0_row0\" class=\"row_heading level0 row0\" >0</th>\n",
       "      <td id=\"T_98f61_row0_col0\" class=\"data row0 col0\" > Adana Numune Eğitim ve Araştırma Hastanesi </td>\n",
       "      <td id=\"T_98f61_row0_col1\" class=\"data row0 col1\" > Adana Tıp Fakültesi </td>\n",
       "      <td id=\"T_98f61_row0_col2\" class=\"data row0 col2\" > Adana Şehir Hastanesi </td>\n",
       "      <td id=\"T_98f61_row0_col3\" class=\"data row0 col3\" > Adli Bilimler Enstitüsü </td>\n",
       "      <td id=\"T_98f61_row0_col4\" class=\"data row0 col4\" > Adli Tıp Enstitüsü </td>\n",
       "      <td id=\"T_98f61_row0_col5\" class=\"data row0 col5\" > Adli Tıp Kurumu </td>\n",
       "      <td id=\"T_98f61_row0_col6\" class=\"data row0 col6\" > Adli Tıp ve Adli Bilimler Enstitüsü </td>\n",
       "      <td id=\"T_98f61_row0_col7\" class=\"data row0 col7\" > Afet Yönetimi Enstitüsü </td>\n",
       "      <td id=\"T_98f61_row0_col8\" class=\"data row0 col8\" > Akdeniz Uygarlıkları Araştırma Enstitüsü </td>\n",
       "      <td id=\"T_98f61_row0_col9\" class=\"data row0 col9\" > Alevilik Araştırmaları Enstitüsü </td>\n",
       "    </tr>\n",
       "    <tr>\n",
       "      <th id=\"T_98f61_level0_row1\" class=\"row_heading level0 row1\" >1</th>\n",
       "      <td id=\"T_98f61_row1_col0\" class=\"data row1 col0\" > Alparslan Savunma Bilimleri Enstitüsü </td>\n",
       "      <td id=\"T_98f61_row1_col1\" class=\"data row1 col1\" > Alparslan Savunma Bilimleri ve Milli Güvenlik Enstitüsü </td>\n",
       "      <td id=\"T_98f61_row1_col2\" class=\"data row1 col2\" > Ankara Atatürk Eğitim ve Araştırma Hastanesi </td>\n",
       "      <td id=\"T_98f61_row1_col3\" class=\"data row1 col3\" > Ankara Atatürk Göğüs Has. ve Göğ. Cerr.Eğt. ve Arş. Hast. </td>\n",
       "      <td id=\"T_98f61_row1_col4\" class=\"data row1 col4\" > Ankara Atatürk Sanatoryum Sağlık Uygulama ve Araştırma Merkezi Hastanesi </td>\n",
       "      <td id=\"T_98f61_row1_col5\" class=\"data row1 col5\" > Ankara Dr. Muhittin Ülker Acil Yard.ve Trav. Eğt. ve Arş. Has. </td>\n",
       "      <td id=\"T_98f61_row1_col6\" class=\"data row1 col6\" > Ankara Dr. Sami Ulus Çocuk Sağl. ve Has. Eğt. ve Arş. Hast. </td>\n",
       "      <td id=\"T_98f61_row1_col7\" class=\"data row1 col7\" > Ankara Dışkapı Yıldırım Beyazıt Eğitim Ve Araştırma Hastanesi </td>\n",
       "      <td id=\"T_98f61_row1_col8\" class=\"data row1 col8\" > Ankara Dışkapı Çocuk Hastalıkları Eğitim Ve Araştırma Hastanesi </td>\n",
       "      <td id=\"T_98f61_row1_col9\" class=\"data row1 col9\" > Ankara Etlik Zübeyde Hanım Kadın Hastalıkları Eğitim Ve Araştırma Hastanesi </td>\n",
       "    </tr>\n",
       "    <tr>\n",
       "      <th id=\"T_98f61_level0_row2\" class=\"row_heading level0 row2\" >2</th>\n",
       "      <td id=\"T_98f61_row2_col0\" class=\"data row2 col0\" > Ankara Eğitim ve Araştırma Hastanesi </td>\n",
       "      <td id=\"T_98f61_row2_col1\" class=\"data row2 col1\" > Ankara Fizik Tedavi Ve Rehabilitasyon Eğitim ve Araştırma Hastanesi </td>\n",
       "      <td id=\"T_98f61_row2_col2\" class=\"data row2 col2\" > Ankara Keçiören Eğitim ve Araştırma Hastanesi </td>\n",
       "      <td id=\"T_98f61_row2_col3\" class=\"data row2 col3\" > Ankara Numune Eğitim ve Araştırma Hastanesi </td>\n",
       "      <td id=\"T_98f61_row2_col4\" class=\"data row2 col4\" > Ankara Refik Saydam Hıfsısıhha Merkezi </td>\n",
       "      <td id=\"T_98f61_row2_col5\" class=\"data row2 col5\" > Ankara Sağlık Uygulama Ve Araştırma Merkezi </td>\n",
       "      <td id=\"T_98f61_row2_col6\" class=\"data row2 col6\" > Ankara Türkiye Yüksek İhtisas Eğt. ve Arş. Hastanesi </td>\n",
       "      <td id=\"T_98f61_row2_col7\" class=\"data row2 col7\" > Ankara Ulucanlar Göz Eğitim ve Araştırma Hastanesi </td>\n",
       "      <td id=\"T_98f61_row2_col8\" class=\"data row2 col8\" > Ankara Çocuk Sağlığı ve Has. Hematoloji Onkoloji Eğt. Arş. Hastanesi </td>\n",
       "      <td id=\"T_98f61_row2_col9\" class=\"data row2 col9\" > Ankara Şehir Hastanesi </td>\n",
       "    </tr>\n",
       "    <tr>\n",
       "      <th id=\"T_98f61_level0_row3\" class=\"row_heading level0 row3\" >3</th>\n",
       "      <td id=\"T_98f61_row3_col0\" class=\"data row3 col0\" > Antalya Eğitim ve Araştırma Hastanesi </td>\n",
       "      <td id=\"T_98f61_row3_col1\" class=\"data row3 col1\" > Arkeoloji Enstitüsü </td>\n",
       "      <td id=\"T_98f61_row3_col2\" class=\"data row3 col2\" > Atatürk Stratejik Araştırmalar Enstitüsü </td>\n",
       "      <td id=\"T_98f61_row3_col3\" class=\"data row3 col3\" > Atatürk Stratejik Araştırmalar ve Lisansüstü Eğitim Enstitüsü </td>\n",
       "      <td id=\"T_98f61_row3_col4\" class=\"data row3 col4\" > Atatürk İlkeleri ve İnkılap Tarihi Enstitüsü </td>\n",
       "      <td id=\"T_98f61_row3_col5\" class=\"data row3 col5\" > Avrasya Yerbilimleri Enstitüsü </td>\n",
       "      <td id=\"T_98f61_row3_col6\" class=\"data row3 col6\" > Avrupa Araştırmaları Enstitüsü </td>\n",
       "      <td id=\"T_98f61_row3_col7\" class=\"data row3 col7\" > Avrupa Birliği Enstitüsü </td>\n",
       "      <td id=\"T_98f61_row3_col8\" class=\"data row3 col8\" > Avrupa Birliği Uluslararası İlişkiler Enstitüsü </td>\n",
       "      <td id=\"T_98f61_row3_col9\" class=\"data row3 col9\" > Bankacılık ve Sigortacılık Enstitüsü </td>\n",
       "    </tr>\n",
       "    <tr>\n",
       "      <th id=\"T_98f61_level0_row4\" class=\"row_heading level0 row4\" >4</th>\n",
       "      <td id=\"T_98f61_row4_col0\" class=\"data row4 col0\" > Barbaros Deniz Bilimleri ve Mühendisliği Enstitüsü </td>\n",
       "      <td id=\"T_98f61_row4_col1\" class=\"data row4 col1\" > Bağcılar Eğitim ve Araştırma Hastanesi </td>\n",
       "      <td id=\"T_98f61_row4_col2\" class=\"data row4 col2\" > Bağımlılık ve Adli Bilimler Enstitü </td>\n",
       "      <td id=\"T_98f61_row4_col3\" class=\"data row4 col3\" > Başakşehir Çam ve Sakura Şehir Hastanesi </td>\n",
       "      <td id=\"T_98f61_row4_col4\" class=\"data row4 col4\" > Beyoğlu Göz Sağlık Uygulama Ve Araştırma Merkezi </td>\n",
       "      <td id=\"T_98f61_row4_col5\" class=\"data row4 col5\" > Bezm-i Alem Vakıf Gureba Hastanesi </td>\n",
       "      <td id=\"T_98f61_row4_col6\" class=\"data row4 col6\" > Bilişim Enstitüsü </td>\n",
       "      <td id=\"T_98f61_row4_col7\" class=\"data row4 col7\" > Biyo-Medikal Mühendislik Enstitüsü </td>\n",
       "      <td id=\"T_98f61_row4_col8\" class=\"data row4 col8\" > Biyonano Teknoloji Enstitüsü </td>\n",
       "      <td id=\"T_98f61_row4_col9\" class=\"data row4 col9\" > Biyoteknoloji Enstitüsü </td>\n",
       "    </tr>\n",
       "    <tr>\n",
       "      <th id=\"T_98f61_level0_row5\" class=\"row_heading level0 row5\" >5</th>\n",
       "      <td id=\"T_98f61_row5_col0\" class=\"data row5 col0\" > Bursa Tıp Fakültesi </td>\n",
       "      <td id=\"T_98f61_row5_col1\" class=\"data row5 col1\" > Bursa Yüksek İhtisas Eğitim ve Araştırma Hastanesi </td>\n",
       "      <td id=\"T_98f61_row5_col2\" class=\"data row5 col2\" > Bölge Çalışmaları Enstitüsü </td>\n",
       "      <td id=\"T_98f61_row5_col3\" class=\"data row5 col3\" > Cerrahpaşa Tıp Fakültesi </td>\n",
       "      <td id=\"T_98f61_row5_col4\" class=\"data row5 col4\" > Deneysel Tıp Araştırma Enstitüsü </td>\n",
       "      <td id=\"T_98f61_row5_col5\" class=\"data row5 col5\" > Deniz Bilimleri Enstitüsü </td>\n",
       "      <td id=\"T_98f61_row5_col6\" class=\"data row5 col6\" > Deniz Bilimleri ve Coğrafya Enstitüsü </td>\n",
       "      <td id=\"T_98f61_row5_col7\" class=\"data row5 col7\" > Deniz Bilimleri ve Mühendisliği Enstitüsü </td>\n",
       "      <td id=\"T_98f61_row5_col8\" class=\"data row5 col8\" > Deniz Bilimleri ve Teknolojisi Enstitüsü </td>\n",
       "      <td id=\"T_98f61_row5_col9\" class=\"data row5 col9\" > Deniz Bilimleri ve İşletmeciliği Enstitüsü </td>\n",
       "    </tr>\n",
       "    <tr>\n",
       "      <th id=\"T_98f61_level0_row6\" class=\"row_heading level0 row6\" >6</th>\n",
       "      <td id=\"T_98f61_row6_col0\" class=\"data row6 col0\" > Deprem Mühendisliği ve Afet Yönetimi Enstitüsü </td>\n",
       "      <td id=\"T_98f61_row6_col1\" class=\"data row6 col1\" > Diyarbakır Gazi Yaşargil Eğt. ve Arş. Hast. </td>\n",
       "      <td id=\"T_98f61_row6_col2\" class=\"data row6 col2\" > Diş Hekimliği Fakültesi </td>\n",
       "      <td id=\"T_98f61_row6_col3\" class=\"data row6 col3\" > Dr. Abdurrahman Yurtaslan Ankara Onkoloji Eğitim ve Araştırma Hastanesi </td>\n",
       "      <td id=\"T_98f61_row6_col4\" class=\"data row6 col4\" > Dr. Lütfi Kırdar Kartal Eğitim ve Araştırma Hastanesi </td>\n",
       "      <td id=\"T_98f61_row6_col5\" class=\"data row6 col5\" > Dr. Siyami Ersek Göğüs Kalp ve Damar Cerrahisi Eğitim ve Araştırma Hastanesi </td>\n",
       "      <td id=\"T_98f61_row6_col6\" class=\"data row6 col6\" > Düzce Tıp Fakültesi </td>\n",
       "      <td id=\"T_98f61_row6_col7\" class=\"data row6 col7\" > Dış Ticaret Enstitüsü </td>\n",
       "      <td id=\"T_98f61_row6_col8\" class=\"data row6 col8\" > Eczacılık Fakültesi </td>\n",
       "      <td id=\"T_98f61_row6_col9\" class=\"data row6 col9\" > Ege Doğumevi ve Kadın Hastalıkları Eğitim ve Araştırma Hastanesi </td>\n",
       "    </tr>\n",
       "    <tr>\n",
       "      <th id=\"T_98f61_level0_row7\" class=\"row_heading level0 row7\" >7</th>\n",
       "      <td id=\"T_98f61_row7_col0\" class=\"data row7 col0\" > Ekonomi ve Sosyal Bilimler Enstitüsü </td>\n",
       "      <td id=\"T_98f61_row7_col1\" class=\"data row7 col1\" > Enerji Enstitüsü </td>\n",
       "      <td id=\"T_98f61_row7_col2\" class=\"data row7 col2\" > Enerji Teknolojileri Enstitüsü </td>\n",
       "      <td id=\"T_98f61_row7_col3\" class=\"data row7 col3\" > Enformatik Enstitüsü </td>\n",
       "      <td id=\"T_98f61_row7_col4\" class=\"data row7 col4\" > Erzurum Bölge Eğt. ve Arş. Hast. </td>\n",
       "      <td id=\"T_98f61_row7_col5\" class=\"data row7 col5\" > Eğitim Bilimleri Enstitüsü </td>\n",
       "      <td id=\"T_98f61_row7_col6\" class=\"data row7 col6\" > Fen Bilimleri Enstitüsü </td>\n",
       "      <td id=\"T_98f61_row7_col7\" class=\"data row7 col7\" > Finans Enstitüsü </td>\n",
       "      <td id=\"T_98f61_row7_col8\" class=\"data row7 col8\" > Gaziosmanpaşa Sağlık Uygulama ve Araştırma Merkezi </td>\n",
       "      <td id=\"T_98f61_row7_col9\" class=\"data row7 col9\" > Gaziosmanpaşa Taksim Eğitim ve Araştırma Hastanesi </td>\n",
       "    </tr>\n",
       "    <tr>\n",
       "      <th id=\"T_98f61_level0_row8\" class=\"row_heading level0 row8\" >8</th>\n",
       "      <td id=\"T_98f61_row8_col0\" class=\"data row8 col0\" > Gevher Nesibe Genom ve Kök Hücre Enstitüsü </td>\n",
       "      <td id=\"T_98f61_row8_col1\" class=\"data row8 col1\" > Göztepe Eğitim ve Araştırma Hastanesi </td>\n",
       "      <td id=\"T_98f61_row8_col2\" class=\"data row8 col2\" > Göztepe Prof. Dr. Süleyman Yalçın Şehir Hastanesi </td>\n",
       "      <td id=\"T_98f61_row8_col3\" class=\"data row8 col3\" > Göç Enstitüsü </td>\n",
       "      <td id=\"T_98f61_row8_col4\" class=\"data row8 col4\" > Gülhane Diş Hekimliği Fakültesi </td>\n",
       "      <td id=\"T_98f61_row8_col5\" class=\"data row8 col5\" > Gülhane Sağlık Bilimleri Enstitüsü </td>\n",
       "      <td id=\"T_98f61_row8_col6\" class=\"data row8 col6\" > Gülhane Tıp Fakültesi </td>\n",
       "      <td id=\"T_98f61_row8_col7\" class=\"data row8 col7\" > Güneş Enerjisi Enstitüsü </td>\n",
       "      <td id=\"T_98f61_row8_col8\" class=\"data row8 col8\" > Güvenlik Bilimleri Enstitüsü </td>\n",
       "      <td id=\"T_98f61_row8_col9\" class=\"data row8 col9\" > Güzel Sanatlar Enstitüsü </td>\n",
       "    </tr>\n",
       "    <tr>\n",
       "      <th id=\"T_98f61_level0_row9\" class=\"row_heading level0 row9\" >9</th>\n",
       "      <td id=\"T_98f61_row9_col0\" class=\"data row9 col0\" > Hacı Bektaş Veli Araştırma ve Uygulama Enstitüsü </td>\n",
       "      <td id=\"T_98f61_row9_col1\" class=\"data row9 col1\" > Halk Sağlığı Enstitüsü </td>\n",
       "      <td id=\"T_98f61_row9_col2\" class=\"data row9 col2\" > Hamidiye Sağlık Bilimleri Enstitüsü </td>\n",
       "      <td id=\"T_98f61_row9_col3\" class=\"data row9 col3\" > Hamidiye Uluslararası Tıp Fakültesi </td>\n",
       "      <td id=\"T_98f61_row9_col4\" class=\"data row9 col4\" > Havacılık ve Uzay Bilimleri Enstitüsü </td>\n",
       "      <td id=\"T_98f61_row9_col5\" class=\"data row9 col5\" > Havacılık ve Uzay Teknolojileri Enstitüsü </td>\n",
       "      <td id=\"T_98f61_row9_col6\" class=\"data row9 col6\" > Haydarpaşa Eğitim Hastanesi </td>\n",
       "      <td id=\"T_98f61_row9_col7\" class=\"data row9 col7\" > Heybeliada Sanatoryumu Göğüs Hastalıkları ve Göğüs Cerrahisi Eğitim ve Araştırma Hastanesi </td>\n",
       "      <td id=\"T_98f61_row9_col8\" class=\"data row9 col8\" > Hezarfen Havacılık ve Uzay Teknolojileri Enstitüsü </td>\n",
       "      <td id=\"T_98f61_row9_col9\" class=\"data row9 col9\" > Kandilli Rasathanesi ve Deprem Araştırma Enstitüsü </td>\n",
       "    </tr>\n",
       "    <tr>\n",
       "      <th id=\"T_98f61_level0_row10\" class=\"row_heading level0 row10\" >10</th>\n",
       "      <td id=\"T_98f61_row10_col0\" class=\"data row10 col0\" > Kanser Enstitüsü </td>\n",
       "      <td id=\"T_98f61_row10_col1\" class=\"data row10 col1\" > Karaciğer Nakli Enstitüsü </td>\n",
       "      <td id=\"T_98f61_row10_col2\" class=\"data row10 col2\" > Kardiyoloji Enstitüsü </td>\n",
       "      <td id=\"T_98f61_row10_col3\" class=\"data row10 col3\" > Kayseri Eğt. ve Arş. Hast. </td>\n",
       "      <td id=\"T_98f61_row10_col4\" class=\"data row10 col4\" > Kayseri Şehir Hastanesi </td>\n",
       "      <td id=\"T_98f61_row10_col5\" class=\"data row10 col5\" > Kazaları Araş. ve Önleme Enstitüsü </td>\n",
       "      <td id=\"T_98f61_row10_col6\" class=\"data row10 col6\" > Kocaeli Derince Eğt. ve Arş. Hast. </td>\n",
       "      <td id=\"T_98f61_row10_col7\" class=\"data row10 col7\" > Konya Beyhekim Eğitim ve Araştırma Hastanesi </td>\n",
       "      <td id=\"T_98f61_row10_col8\" class=\"data row10 col8\" > Konya Eğitim ve Araştırma Hastanesi </td>\n",
       "      <td id=\"T_98f61_row10_col9\" class=\"data row10 col9\" > Konya Şehir Hastanesi </td>\n",
       "    </tr>\n",
       "    <tr>\n",
       "      <th id=\"T_98f61_level0_row11\" class=\"row_heading level0 row11\" >11</th>\n",
       "      <td id=\"T_98f61_row11_col0\" class=\"data row11 col0\" > Kış Sporları ve Spor Bilimleri Enstitüsü </td>\n",
       "      <td id=\"T_98f61_row11_col1\" class=\"data row11 col1\" > Latvian Academy of Sport Education </td>\n",
       "      <td id=\"T_98f61_row11_col2\" class=\"data row11 col2\" > Lisansüstü Eğitim Enstitüsü </td>\n",
       "      <td id=\"T_98f61_row11_col3\" class=\"data row11 col3\" > Lisansüstü Eğitim, Öğretim ve Araştırma Enstitüsü </td>\n",
       "      <td id=\"T_98f61_row11_col4\" class=\"data row11 col4\" > Lisansüstü Programlar Enstitüsü </td>\n",
       "      <td id=\"T_98f61_row11_col5\" class=\"data row11 col5\" > Medeniyetler İttifakı Enstitüsü </td>\n",
       "      <td id=\"T_98f61_row11_col6\" class=\"data row11 col6\" > Meram Tıp Fakültesi </td>\n",
       "      <td id=\"T_98f61_row11_col7\" class=\"data row11 col7\" > Metin Sabancı Baltalimanı Kemik Hastalıkları Hastanesi </td>\n",
       "      <td id=\"T_98f61_row11_col8\" class=\"data row11 col8\" > Mevlana Araştırmaları Enstitüsü </td>\n",
       "      <td id=\"T_98f61_row11_col9\" class=\"data row11 col9\" > Muhasebe Enstitüsü </td>\n",
       "    </tr>\n",
       "    <tr>\n",
       "      <th id=\"T_98f61_level0_row12\" class=\"row_heading level0 row12\" >12</th>\n",
       "      <td id=\"T_98f61_row12_col0\" class=\"data row12 col0\" > Mühendislik ve Fen Bilimleri Enstitüsü </td>\n",
       "      <td id=\"T_98f61_row12_col1\" class=\"data row12 col1\" > Mülga Türkiye ve Orta Doğu Amme İdaresi Enstitüsü (TODAİE) </td>\n",
       "      <td id=\"T_98f61_row12_col2\" class=\"data row12 col2\" > Müzik ve Güzel Sanatlar Enstitüsü </td>\n",
       "      <td id=\"T_98f61_row12_col3\" class=\"data row12 col3\" > Müzik ve Sahne Sanatları Enstitüsü </td>\n",
       "      <td id=\"T_98f61_row12_col4\" class=\"data row12 col4\" > Nanoteknoloji Enstitüsü </td>\n",
       "      <td id=\"T_98f61_row12_col5\" class=\"data row12 col5\" > Nörolojik Bil. ve Psikiyatri Enstitüsü </td>\n",
       "      <td id=\"T_98f61_row12_col6\" class=\"data row12 col6\" > Nüfus Etütleri Enstitüsü </td>\n",
       "      <td id=\"T_98f61_row12_col7\" class=\"data row12 col7\" > Nükleer Bilimler Enstitüsü </td>\n",
       "      <td id=\"T_98f61_row12_col8\" class=\"data row12 col8\" > Nükleer Enerji Enstitüsü </td>\n",
       "      <td id=\"T_98f61_row12_col9\" class=\"data row12 col9\" > ODTÜ Kuzey Kıbrıs Kampüsü-Eğitim Bilimleri Enstitüsü </td>\n",
       "    </tr>\n",
       "    <tr>\n",
       "      <th id=\"T_98f61_level0_row13\" class=\"row_heading level0 row13\" >13</th>\n",
       "      <td id=\"T_98f61_row13_col0\" class=\"data row13 col0\" > ODTÜ Kuzey Kıbrıs Kampüsü-Fen Bilimleri Enstitüsü </td>\n",
       "      <td id=\"T_98f61_row13_col1\" class=\"data row13 col1\" > ODTÜ Kuzey Kıbrıs Kampüsü-Sosyal Bilimler Enstitüsü </td>\n",
       "      <td id=\"T_98f61_row13_col2\" class=\"data row13 col2\" > Okmeydanı Sağlık Uygulama Ve Araştırma Merkezi </td>\n",
       "      <td id=\"T_98f61_row13_col3\" class=\"data row13 col3\" > Onkoloji Enstitüsü </td>\n",
       "      <td id=\"T_98f61_row13_col4\" class=\"data row13 col4\" > Orta Doğu ve İslam Ülkeleri Araştırmaları Enstitüsü </td>\n",
       "      <td id=\"T_98f61_row13_col5\" class=\"data row13 col5\" > Ortadoğu Araştırmaları Enstitüsü </td>\n",
       "      <td id=\"T_98f61_row13_col6\" class=\"data row13 col6\" > Ortadoğu Enstitüsü </td>\n",
       "      <td id=\"T_98f61_row13_col7\" class=\"data row13 col7\" > Ortadoğu ve İslam Ülkeleri Enstitüsü </td>\n",
       "      <td id=\"T_98f61_row13_col8\" class=\"data row13 col8\" > Prifysgol Abertawe </td>\n",
       "      <td id=\"T_98f61_row13_col9\" class=\"data row13 col9\" > Prifysgol Aberystwyth </td>\n",
       "    </tr>\n",
       "    <tr>\n",
       "      <th id=\"T_98f61_level0_row14\" class=\"row_heading level0 row14\" >14</th>\n",
       "      <td id=\"T_98f61_row14_col0\" class=\"data row14 col0\" > Prifysgol Metropolitan Caerdydd </td>\n",
       "      <td id=\"T_98f61_row14_col1\" class=\"data row14 col1\" > Prifysgol Morgannwg </td>\n",
       "      <td id=\"T_98f61_row14_col2\" class=\"data row14 col2\" > Prof. Dr. Cemil Taşcıoğlu Şehir Hastanesi </td>\n",
       "      <td id=\"T_98f61_row14_col3\" class=\"data row14 col3\" > Prof.Dr. Tuncer KARPUZOĞLU Organ Nakli Enstitüsü </td>\n",
       "      <td id=\"T_98f61_row14_col4\" class=\"data row14 col4\" > Prof.Dr.N.Reşat Belger Beyoğlu Göz Eğitim ve Araştırma Hastanesi </td>\n",
       "      <td id=\"T_98f61_row14_col5\" class=\"data row14 col5\" > SSK Ankara Eğitim Hastanesi </td>\n",
       "      <td id=\"T_98f61_row14_col6\" class=\"data row14 col6\" > SSK Ankara Çocuk Hastalıkları Eğitim Hastanesi </td>\n",
       "      <td id=\"T_98f61_row14_col7\" class=\"data row14 col7\" > SSK Beyoğlu Hastanesi </td>\n",
       "      <td id=\"T_98f61_row14_col8\" class=\"data row14 col8\" > SSK İst. Bakırköy Doğ. Kadın ve Çoc. Has. Eğt. ve Arş. Hast. </td>\n",
       "      <td id=\"T_98f61_row14_col9\" class=\"data row14 col9\" > SSK İstanbul Eğitim Hastanesi </td>\n",
       "    </tr>\n",
       "    <tr>\n",
       "      <th id=\"T_98f61_level0_row15\" class=\"row_heading level0 row15\" >15</th>\n",
       "      <td id=\"T_98f61_row15_col0\" class=\"data row15 col0\" > SSK İstanbul Göztepe Eğitim Hastanesi </td>\n",
       "      <td id=\"T_98f61_row15_col1\" class=\"data row15 col1\" > SSK İzmir Eğitim Hastanesi </td>\n",
       "      <td id=\"T_98f61_row15_col2\" class=\"data row15 col2\" > SSK İzmir Tepecik Eğitim Hastanesi </td>\n",
       "      <td id=\"T_98f61_row15_col3\" class=\"data row15 col3\" > Sakarya Eğitim ve Araştırma Hastanesi </td>\n",
       "      <td id=\"T_98f61_row15_col4\" class=\"data row15 col4\" > Samsun Eğt. ve Arş. Hast. </td>\n",
       "      <td id=\"T_98f61_row15_col5\" class=\"data row15 col5\" > Sancaktepe Şehit Prof.Dr. İlhan Varank Eğitim ve Araştırma Hastanesi </td>\n",
       "      <td id=\"T_98f61_row15_col6\" class=\"data row15 col6\" > Savunma Bilimleri Enstitüsü </td>\n",
       "      <td id=\"T_98f61_row15_col7\" class=\"data row15 col7\" > Savunma Teknolojileri Enstitüsü </td>\n",
       "      <td id=\"T_98f61_row15_col8\" class=\"data row15 col8\" > Sağlık Bilimleri Enstitüsü </td>\n",
       "      <td id=\"T_98f61_row15_col9\" class=\"data row15 col9\" > Sosyal Bilimler Enstitüsü </td>\n",
       "    </tr>\n",
       "    <tr>\n",
       "      <th id=\"T_98f61_level0_row16\" class=\"row_heading level0 row16\" >16</th>\n",
       "      <td id=\"T_98f61_row16_col0\" class=\"data row16 col0\" > Stratejik Araştırmalar Enstitüsü </td>\n",
       "      <td id=\"T_98f61_row16_col1\" class=\"data row16 col1\" > Süleymaniye Kadın Hastalıkları ve Doğum Eğitim ve Araştırma Hastanesi </td>\n",
       "      <td id=\"T_98f61_row16_col2\" class=\"data row16 col2\" > Taksim Eğitim ve Araştırma Hastanesi </td>\n",
       "      <td id=\"T_98f61_row16_col3\" class=\"data row16 col3\" > Tasavvuf Araştırmaları Enstitüsü </td>\n",
       "      <td id=\"T_98f61_row16_col4\" class=\"data row16 col4\" > Trabzon Ahi Evren Göğüs Kalp ve Damar Cerrahisi Eğt. Ve Arş. Hastanesi </td>\n",
       "      <td id=\"T_98f61_row16_col5\" class=\"data row16 col5\" > Trabzon Kanuni Eğt. ve Arş. Hast. </td>\n",
       "      <td id=\"T_98f61_row16_col6\" class=\"data row16 col6\" > Trabzon Numune Eğitim ve Araştırma Hastanesi </td>\n",
       "      <td id=\"T_98f61_row16_col7\" class=\"data row16 col7\" > Trabzon Tıp Fakültesi </td>\n",
       "      <td id=\"T_98f61_row16_col8\" class=\"data row16 col8\" > Trafik Enstitüsü </td>\n",
       "      <td id=\"T_98f61_row16_col9\" class=\"data row16 col9\" > Turizm Araştırmaları Enstitüsü </td>\n",
       "    </tr>\n",
       "    <tr>\n",
       "      <th id=\"T_98f61_level0_row17\" class=\"row_heading level0 row17\" >17</th>\n",
       "      <td id=\"T_98f61_row17_col0\" class=\"data row17 col0\" > Türk İnkılap Tarihi Enstitüsü </td>\n",
       "      <td id=\"T_98f61_row17_col1\" class=\"data row17 col1\" > Türkiyat Araştırmaları Enstitüsü </td>\n",
       "      <td id=\"T_98f61_row17_col2\" class=\"data row17 col2\" > Tıp Fakültesi </td>\n",
       "      <td id=\"T_98f61_row17_col3\" class=\"data row17 col3\" > Uluslararası İlişkiler ve Stratejik Araştırmalar Enstitüsü </td>\n",
       "      <td id=\"T_98f61_row17_col4\" class=\"data row17 col4\" > Uydu ve Uzay Bilimleri Araştırma Enstitüsü </td>\n",
       "      <td id=\"T_98f61_row17_col5\" class=\"data row17 col5\" > Uygulamalı Matematik Enstitüsü </td>\n",
       "      <td id=\"T_98f61_row17_col6\" class=\"data row17 col6\" > Van Eğt. ve Arş. Hast. </td>\n",
       "      <td id=\"T_98f61_row17_col7\" class=\"data row17 col7\" > Yaşayan Diller Enstitüsü </td>\n",
       "      <td id=\"T_98f61_row17_col8\" class=\"data row17 col8\" > Yedikule Göğüs Hastalıkları Hastanesi ve Göğüs Cerrahi Merkezi </td>\n",
       "      <td id=\"T_98f61_row17_col9\" class=\"data row17 col9\" > Yedikule Göğüs Hastalıkları Ve Göğüs Cerrahisi Eğitim ve Araştırma Hastanesi </td>\n",
       "    </tr>\n",
       "    <tr>\n",
       "      <th id=\"T_98f61_level0_row18\" class=\"row_heading level0 row18\" >18</th>\n",
       "      <td id=\"T_98f61_row18_col0\" class=\"data row18 col0\" > Yer ve Deniz Bilimleri Enstitüsü </td>\n",
       "      <td id=\"T_98f61_row18_col1\" class=\"data row18 col1\" > Yurtdışı Enstitü </td>\n",
       "      <td id=\"T_98f61_row18_col2\" class=\"data row18 col2\" > Yönetim Bilimleri Enstitüsü </td>\n",
       "      <td id=\"T_98f61_row18_col3\" class=\"data row18 col3\" > Zekai Tahir Burak Kadın Sağlığı Eğitimi ve Araştırma Hastanesi </td>\n",
       "      <td id=\"T_98f61_row18_col4\" class=\"data row18 col4\" > Zeynep Kamil Kadın ve Çocuk Hastalıkları Eğitim ve Araştırma Hastanesi </td>\n",
       "      <td id=\"T_98f61_row18_col5\" class=\"data row18 col5\" > Çevre Bilimleri Enstitüsü </td>\n",
       "      <td id=\"T_98f61_row18_col6\" class=\"data row18 col6\" > Çocuk Sağlığı Enstitüsü </td>\n",
       "      <td id=\"T_98f61_row18_col7\" class=\"data row18 col7\" > İletişim Bilimi ve İnternet Enstitüsü </td>\n",
       "      <td id=\"T_98f61_row18_col8\" class=\"data row18 col8\" > İslam Ekonomisi ve Finansı Enstitüsü </td>\n",
       "      <td id=\"T_98f61_row18_col9\" class=\"data row18 col9\" > İslami Araştırmalar Enstitüsü </td>\n",
       "    </tr>\n",
       "    <tr>\n",
       "      <th id=\"T_98f61_level0_row19\" class=\"row_heading level0 row19\" >19</th>\n",
       "      <td id=\"T_98f61_row19_col0\" class=\"data row19 col0\" > İslami İlimler Enstitüsü </td>\n",
       "      <td id=\"T_98f61_row19_col1\" class=\"data row19 col1\" > İstanbul Bakırköy Kadın Doğum ve Çocuk Hastalıkları Eğt. ve Arş. Hastanesi </td>\n",
       "      <td id=\"T_98f61_row19_col2\" class=\"data row19 col2\" > İstanbul Bakırköy Prof. Dr. Mazhar Osman Ruh Sağlığı ve Sinir Has. Eğt. ve Arş. Hastanesi </td>\n",
       "      <td id=\"T_98f61_row19_col3\" class=\"data row19 col3\" > İstanbul Bakırköy Sadi Konuk Eğitim ve Araştırma Hastanesi </td>\n",
       "      <td id=\"T_98f61_row19_col4\" class=\"data row19 col4\" > İstanbul Başakşehir Çam ve Sakura Şehir Hastanesi </td>\n",
       "      <td id=\"T_98f61_row19_col5\" class=\"data row19 col5\" > İstanbul Beyoğlu Göz Eğitim Ve Araştırma Hastanesi </td>\n",
       "      <td id=\"T_98f61_row19_col6\" class=\"data row19 col6\" > İstanbul Bezm-i Alem Valide Sultan Vakıf Gureba Eğt. ve Arş. Hast. </td>\n",
       "      <td id=\"T_98f61_row19_col7\" class=\"data row19 col7\" > İstanbul Erenköy Ruh ve Sinir Hastalıkları Eğitim ve Araştırma Hastanesi </td>\n",
       "      <td id=\"T_98f61_row19_col8\" class=\"data row19 col8\" > İstanbul Eğt. ve Arş. Hast. </td>\n",
       "      <td id=\"T_98f61_row19_col9\" class=\"data row19 col9\" > İstanbul Fatih Sultan Mehmet Eğitim ve Araştırma Hastanesi </td>\n",
       "    </tr>\n",
       "    <tr>\n",
       "      <th id=\"T_98f61_level0_row20\" class=\"row_heading level0 row20\" >20</th>\n",
       "      <td id=\"T_98f61_row20_col0\" class=\"data row20 col0\" > İstanbul Fizik Tedavi Ve Rehabilitasyon Eğt. ve Arş. Hast. </td>\n",
       "      <td id=\"T_98f61_row20_col1\" class=\"data row20 col1\" > İstanbul Haseki Eğitim ve Araştırma Hastanesi </td>\n",
       "      <td id=\"T_98f61_row20_col2\" class=\"data row20 col2\" > İstanbul Haydarpaşa Numune Eğt. ve Arş. Hastanesi </td>\n",
       "      <td id=\"T_98f61_row20_col3\" class=\"data row20 col3\" > İstanbul Kanuni Sultan Süleyman Eğitim ve Araştırma Hastanesi </td>\n",
       "      <td id=\"T_98f61_row20_col4\" class=\"data row20 col4\" > İstanbul Kartal Eğitim ve Araştırma Hastanesi </td>\n",
       "      <td id=\"T_98f61_row20_col5\" class=\"data row20 col5\" > İstanbul Kartal Koşuyolu Yüksek İhtisas Eğt. Ve Arş. Hastanesi </td>\n",
       "      <td id=\"T_98f61_row20_col6\" class=\"data row20 col6\" > İstanbul Mehmet Akif Ersoy Göğüs Kalp ve Damar Cerrahisi Eğt. ve Arş. Hastanesi </td>\n",
       "      <td id=\"T_98f61_row20_col7\" class=\"data row20 col7\" > İstanbul Okmeydanı Eğt. ve Arş. Hastanesi </td>\n",
       "      <td id=\"T_98f61_row20_col8\" class=\"data row20 col8\" > İstanbul PTT Erenköy Sanatoryum ve Hastanesi </td>\n",
       "      <td id=\"T_98f61_row20_col9\" class=\"data row20 col9\" > İstanbul Sultan Abdülhamid Eğt. ve Arş. Hast. </td>\n",
       "    </tr>\n",
       "    <tr>\n",
       "      <th id=\"T_98f61_level0_row21\" class=\"row_heading level0 row21\" >21</th>\n",
       "      <td id=\"T_98f61_row21_col0\" class=\"data row21 col0\" > İstanbul Süreyyapaşa Göğüs Kalp Damar Hastalıkları Eğitim ve Araştırma Hastanesi </td>\n",
       "      <td id=\"T_98f61_row21_col1\" class=\"data row21 col1\" > İstanbul Ümraniye Eğitim ve Araştırma Hastanesi </td>\n",
       "      <td id=\"T_98f61_row21_col2\" class=\"data row21 col2\" > İstanbul Şişli Hamidiye Etfal Eğitim ve Araştırma Hastanesi </td>\n",
       "      <td id=\"T_98f61_row21_col3\" class=\"data row21 col3\" > İzmir Atatürk Eğitim ve Araştırma Hastanesi </td>\n",
       "      <td id=\"T_98f61_row21_col4\" class=\"data row21 col4\" > İzmir Bozyaka Eğt. ve Arş. Hast. </td>\n",
       "      <td id=\"T_98f61_row21_col5\" class=\"data row21 col5\" > İzmir Dr.Behçet Uz Çocuk Hastalıkları Ve Cerrahisi Eğt. ve Arş. Hast. </td>\n",
       "      <td id=\"T_98f61_row21_col6\" class=\"data row21 col6\" > İzmir Dr.Suat Seren Göğüs Hastalıkları ve Cerrahisi Eğitim ve Araştırma Hastanesi </td>\n",
       "      <td id=\"T_98f61_row21_col7\" class=\"data row21 col7\" > İzmir Göğüs Hastalıkları Hastanesi </td>\n",
       "      <td id=\"T_98f61_row21_col8\" class=\"data row21 col8\" > İzmir Tepecik Eğt. ve Arş. Hast. </td>\n",
       "      <td id=\"T_98f61_row21_col9\" class=\"data row21 col9\" > İzmir Tıp Fakültesi </td>\n",
       "    </tr>\n",
       "    <tr>\n",
       "      <th id=\"T_98f61_level0_row22\" class=\"row_heading level0 row22\" >22</th>\n",
       "      <td id=\"T_98f61_row22_col0\" class=\"data row22 col0\" > İzmir Uluslararası Biyotıp ve Genom Enstitüsü </td>\n",
       "      <td id=\"T_98f61_row22_col1\" class=\"data row22 col1\" > İşletme Enstitüsü </td>\n",
       "      <td id=\"T_98f61_row22_col2\" class=\"data row22 col2\" > İşletme İktisadı Enstitüsü </td>\n",
       "      <td id=\"T_98f61_row22_col3\" class=\"data row22 col3\" > Şevket Yılmaz Eğitim ve Araştırma Hastanesi </td>\n",
       "      <td id=\"T_98f61_row22_col4\" class=\"data row22 col4\" >Prifysgol Cymru-Kensington College of Business </td>\n",
       "      <td id=\"T_98f61_row22_col5\" class=\"data row22 col5\" >Universität der Bundeswehr Hamburg) </td>\n",
       "      <td id=\"T_98f61_row22_col6\" class=\"data row22 col6\" >None</td>\n",
       "      <td id=\"T_98f61_row22_col7\" class=\"data row22 col7\" >None</td>\n",
       "      <td id=\"T_98f61_row22_col8\" class=\"data row22 col8\" >None</td>\n",
       "      <td id=\"T_98f61_row22_col9\" class=\"data row22 col9\" >None</td>\n",
       "    </tr>\n",
       "  </tbody>\n",
       "</table>\n"
      ],
      "text/plain": [
       "<pandas.io.formats.style.Styler at 0x7fe1707ef910>"
      ]
     },
     "metadata": {},
     "output_type": "display_data"
    },
    {
     "data": {
      "application/vnd.plotly.v1+json": {
       "config": {
        "plotlyServerURL": "https://plot.ly"
       },
       "data": [
        {
         "labels": [
          "Sosyal Bilimler Enstitüsü",
          "Belirsiz",
          "Fen Bilimleri Enstitüsü",
          "Diğer"
         ],
         "type": "pie",
         "values": [
          233772,
          79984,
          241016,
          392909
         ]
        }
       ],
       "layout": {
        "height": 900,
        "template": {
         "data": {
          "bar": [
           {
            "error_x": {
             "color": "#f2f5fa"
            },
            "error_y": {
             "color": "#f2f5fa"
            },
            "marker": {
             "line": {
              "color": "rgb(17,17,17)",
              "width": 0.5
             },
             "pattern": {
              "fillmode": "overlay",
              "size": 10,
              "solidity": 0.2
             }
            },
            "type": "bar"
           }
          ],
          "barpolar": [
           {
            "marker": {
             "line": {
              "color": "rgb(17,17,17)",
              "width": 0.5
             },
             "pattern": {
              "fillmode": "overlay",
              "size": 10,
              "solidity": 0.2
             }
            },
            "type": "barpolar"
           }
          ],
          "carpet": [
           {
            "aaxis": {
             "endlinecolor": "#A2B1C6",
             "gridcolor": "#506784",
             "linecolor": "#506784",
             "minorgridcolor": "#506784",
             "startlinecolor": "#A2B1C6"
            },
            "baxis": {
             "endlinecolor": "#A2B1C6",
             "gridcolor": "#506784",
             "linecolor": "#506784",
             "minorgridcolor": "#506784",
             "startlinecolor": "#A2B1C6"
            },
            "type": "carpet"
           }
          ],
          "choropleth": [
           {
            "colorbar": {
             "outlinewidth": 0,
             "ticks": ""
            },
            "type": "choropleth"
           }
          ],
          "contour": [
           {
            "colorbar": {
             "outlinewidth": 0,
             "ticks": ""
            },
            "colorscale": [
             [
              0,
              "#0d0887"
             ],
             [
              0.1111111111111111,
              "#46039f"
             ],
             [
              0.2222222222222222,
              "#7201a8"
             ],
             [
              0.3333333333333333,
              "#9c179e"
             ],
             [
              0.4444444444444444,
              "#bd3786"
             ],
             [
              0.5555555555555556,
              "#d8576b"
             ],
             [
              0.6666666666666666,
              "#ed7953"
             ],
             [
              0.7777777777777778,
              "#fb9f3a"
             ],
             [
              0.8888888888888888,
              "#fdca26"
             ],
             [
              1,
              "#f0f921"
             ]
            ],
            "type": "contour"
           }
          ],
          "contourcarpet": [
           {
            "colorbar": {
             "outlinewidth": 0,
             "ticks": ""
            },
            "type": "contourcarpet"
           }
          ],
          "heatmap": [
           {
            "colorbar": {
             "outlinewidth": 0,
             "ticks": ""
            },
            "colorscale": [
             [
              0,
              "#0d0887"
             ],
             [
              0.1111111111111111,
              "#46039f"
             ],
             [
              0.2222222222222222,
              "#7201a8"
             ],
             [
              0.3333333333333333,
              "#9c179e"
             ],
             [
              0.4444444444444444,
              "#bd3786"
             ],
             [
              0.5555555555555556,
              "#d8576b"
             ],
             [
              0.6666666666666666,
              "#ed7953"
             ],
             [
              0.7777777777777778,
              "#fb9f3a"
             ],
             [
              0.8888888888888888,
              "#fdca26"
             ],
             [
              1,
              "#f0f921"
             ]
            ],
            "type": "heatmap"
           }
          ],
          "heatmapgl": [
           {
            "colorbar": {
             "outlinewidth": 0,
             "ticks": ""
            },
            "colorscale": [
             [
              0,
              "#0d0887"
             ],
             [
              0.1111111111111111,
              "#46039f"
             ],
             [
              0.2222222222222222,
              "#7201a8"
             ],
             [
              0.3333333333333333,
              "#9c179e"
             ],
             [
              0.4444444444444444,
              "#bd3786"
             ],
             [
              0.5555555555555556,
              "#d8576b"
             ],
             [
              0.6666666666666666,
              "#ed7953"
             ],
             [
              0.7777777777777778,
              "#fb9f3a"
             ],
             [
              0.8888888888888888,
              "#fdca26"
             ],
             [
              1,
              "#f0f921"
             ]
            ],
            "type": "heatmapgl"
           }
          ],
          "histogram": [
           {
            "marker": {
             "pattern": {
              "fillmode": "overlay",
              "size": 10,
              "solidity": 0.2
             }
            },
            "type": "histogram"
           }
          ],
          "histogram2d": [
           {
            "colorbar": {
             "outlinewidth": 0,
             "ticks": ""
            },
            "colorscale": [
             [
              0,
              "#0d0887"
             ],
             [
              0.1111111111111111,
              "#46039f"
             ],
             [
              0.2222222222222222,
              "#7201a8"
             ],
             [
              0.3333333333333333,
              "#9c179e"
             ],
             [
              0.4444444444444444,
              "#bd3786"
             ],
             [
              0.5555555555555556,
              "#d8576b"
             ],
             [
              0.6666666666666666,
              "#ed7953"
             ],
             [
              0.7777777777777778,
              "#fb9f3a"
             ],
             [
              0.8888888888888888,
              "#fdca26"
             ],
             [
              1,
              "#f0f921"
             ]
            ],
            "type": "histogram2d"
           }
          ],
          "histogram2dcontour": [
           {
            "colorbar": {
             "outlinewidth": 0,
             "ticks": ""
            },
            "colorscale": [
             [
              0,
              "#0d0887"
             ],
             [
              0.1111111111111111,
              "#46039f"
             ],
             [
              0.2222222222222222,
              "#7201a8"
             ],
             [
              0.3333333333333333,
              "#9c179e"
             ],
             [
              0.4444444444444444,
              "#bd3786"
             ],
             [
              0.5555555555555556,
              "#d8576b"
             ],
             [
              0.6666666666666666,
              "#ed7953"
             ],
             [
              0.7777777777777778,
              "#fb9f3a"
             ],
             [
              0.8888888888888888,
              "#fdca26"
             ],
             [
              1,
              "#f0f921"
             ]
            ],
            "type": "histogram2dcontour"
           }
          ],
          "mesh3d": [
           {
            "colorbar": {
             "outlinewidth": 0,
             "ticks": ""
            },
            "type": "mesh3d"
           }
          ],
          "parcoords": [
           {
            "line": {
             "colorbar": {
              "outlinewidth": 0,
              "ticks": ""
             }
            },
            "type": "parcoords"
           }
          ],
          "pie": [
           {
            "automargin": true,
            "type": "pie"
           }
          ],
          "scatter": [
           {
            "marker": {
             "line": {
              "color": "#283442"
             }
            },
            "type": "scatter"
           }
          ],
          "scatter3d": [
           {
            "line": {
             "colorbar": {
              "outlinewidth": 0,
              "ticks": ""
             }
            },
            "marker": {
             "colorbar": {
              "outlinewidth": 0,
              "ticks": ""
             }
            },
            "type": "scatter3d"
           }
          ],
          "scattercarpet": [
           {
            "marker": {
             "colorbar": {
              "outlinewidth": 0,
              "ticks": ""
             }
            },
            "type": "scattercarpet"
           }
          ],
          "scattergeo": [
           {
            "marker": {
             "colorbar": {
              "outlinewidth": 0,
              "ticks": ""
             }
            },
            "type": "scattergeo"
           }
          ],
          "scattergl": [
           {
            "marker": {
             "line": {
              "color": "#283442"
             }
            },
            "type": "scattergl"
           }
          ],
          "scattermapbox": [
           {
            "marker": {
             "colorbar": {
              "outlinewidth": 0,
              "ticks": ""
             }
            },
            "type": "scattermapbox"
           }
          ],
          "scatterpolar": [
           {
            "marker": {
             "colorbar": {
              "outlinewidth": 0,
              "ticks": ""
             }
            },
            "type": "scatterpolar"
           }
          ],
          "scatterpolargl": [
           {
            "marker": {
             "colorbar": {
              "outlinewidth": 0,
              "ticks": ""
             }
            },
            "type": "scatterpolargl"
           }
          ],
          "scatterternary": [
           {
            "marker": {
             "colorbar": {
              "outlinewidth": 0,
              "ticks": ""
             }
            },
            "type": "scatterternary"
           }
          ],
          "surface": [
           {
            "colorbar": {
             "outlinewidth": 0,
             "ticks": ""
            },
            "colorscale": [
             [
              0,
              "#0d0887"
             ],
             [
              0.1111111111111111,
              "#46039f"
             ],
             [
              0.2222222222222222,
              "#7201a8"
             ],
             [
              0.3333333333333333,
              "#9c179e"
             ],
             [
              0.4444444444444444,
              "#bd3786"
             ],
             [
              0.5555555555555556,
              "#d8576b"
             ],
             [
              0.6666666666666666,
              "#ed7953"
             ],
             [
              0.7777777777777778,
              "#fb9f3a"
             ],
             [
              0.8888888888888888,
              "#fdca26"
             ],
             [
              1,
              "#f0f921"
             ]
            ],
            "type": "surface"
           }
          ],
          "table": [
           {
            "cells": {
             "fill": {
              "color": "#506784"
             },
             "line": {
              "color": "rgb(17,17,17)"
             }
            },
            "header": {
             "fill": {
              "color": "#2a3f5f"
             },
             "line": {
              "color": "rgb(17,17,17)"
             }
            },
            "type": "table"
           }
          ]
         },
         "layout": {
          "annotationdefaults": {
           "arrowcolor": "#f2f5fa",
           "arrowhead": 0,
           "arrowwidth": 1
          },
          "autotypenumbers": "strict",
          "coloraxis": {
           "colorbar": {
            "outlinewidth": 0,
            "ticks": ""
           }
          },
          "colorscale": {
           "diverging": [
            [
             0,
             "#8e0152"
            ],
            [
             0.1,
             "#c51b7d"
            ],
            [
             0.2,
             "#de77ae"
            ],
            [
             0.3,
             "#f1b6da"
            ],
            [
             0.4,
             "#fde0ef"
            ],
            [
             0.5,
             "#f7f7f7"
            ],
            [
             0.6,
             "#e6f5d0"
            ],
            [
             0.7,
             "#b8e186"
            ],
            [
             0.8,
             "#7fbc41"
            ],
            [
             0.9,
             "#4d9221"
            ],
            [
             1,
             "#276419"
            ]
           ],
           "sequential": [
            [
             0,
             "#0d0887"
            ],
            [
             0.1111111111111111,
             "#46039f"
            ],
            [
             0.2222222222222222,
             "#7201a8"
            ],
            [
             0.3333333333333333,
             "#9c179e"
            ],
            [
             0.4444444444444444,
             "#bd3786"
            ],
            [
             0.5555555555555556,
             "#d8576b"
            ],
            [
             0.6666666666666666,
             "#ed7953"
            ],
            [
             0.7777777777777778,
             "#fb9f3a"
            ],
            [
             0.8888888888888888,
             "#fdca26"
            ],
            [
             1,
             "#f0f921"
            ]
           ],
           "sequentialminus": [
            [
             0,
             "#0d0887"
            ],
            [
             0.1111111111111111,
             "#46039f"
            ],
            [
             0.2222222222222222,
             "#7201a8"
            ],
            [
             0.3333333333333333,
             "#9c179e"
            ],
            [
             0.4444444444444444,
             "#bd3786"
            ],
            [
             0.5555555555555556,
             "#d8576b"
            ],
            [
             0.6666666666666666,
             "#ed7953"
            ],
            [
             0.7777777777777778,
             "#fb9f3a"
            ],
            [
             0.8888888888888888,
             "#fdca26"
            ],
            [
             1,
             "#f0f921"
            ]
           ]
          },
          "colorway": [
           "#636efa",
           "#EF553B",
           "#00cc96",
           "#ab63fa",
           "#FFA15A",
           "#19d3f3",
           "#FF6692",
           "#B6E880",
           "#FF97FF",
           "#FECB52"
          ],
          "font": {
           "color": "#f2f5fa"
          },
          "geo": {
           "bgcolor": "rgb(17,17,17)",
           "lakecolor": "rgb(17,17,17)",
           "landcolor": "rgb(17,17,17)",
           "showlakes": true,
           "showland": true,
           "subunitcolor": "#506784"
          },
          "hoverlabel": {
           "align": "left"
          },
          "hovermode": "closest",
          "mapbox": {
           "style": "dark"
          },
          "paper_bgcolor": "rgb(17,17,17)",
          "plot_bgcolor": "rgb(17,17,17)",
          "polar": {
           "angularaxis": {
            "gridcolor": "#506784",
            "linecolor": "#506784",
            "ticks": ""
           },
           "bgcolor": "rgb(17,17,17)",
           "radialaxis": {
            "gridcolor": "#506784",
            "linecolor": "#506784",
            "ticks": ""
           }
          },
          "scene": {
           "xaxis": {
            "backgroundcolor": "rgb(17,17,17)",
            "gridcolor": "#506784",
            "gridwidth": 2,
            "linecolor": "#506784",
            "showbackground": true,
            "ticks": "",
            "zerolinecolor": "#C8D4E3"
           },
           "yaxis": {
            "backgroundcolor": "rgb(17,17,17)",
            "gridcolor": "#506784",
            "gridwidth": 2,
            "linecolor": "#506784",
            "showbackground": true,
            "ticks": "",
            "zerolinecolor": "#C8D4E3"
           },
           "zaxis": {
            "backgroundcolor": "rgb(17,17,17)",
            "gridcolor": "#506784",
            "gridwidth": 2,
            "linecolor": "#506784",
            "showbackground": true,
            "ticks": "",
            "zerolinecolor": "#C8D4E3"
           }
          },
          "shapedefaults": {
           "line": {
            "color": "#f2f5fa"
           }
          },
          "sliderdefaults": {
           "bgcolor": "#C8D4E3",
           "bordercolor": "rgb(17,17,17)",
           "borderwidth": 1,
           "tickwidth": 0
          },
          "ternary": {
           "aaxis": {
            "gridcolor": "#506784",
            "linecolor": "#506784",
            "ticks": ""
           },
           "baxis": {
            "gridcolor": "#506784",
            "linecolor": "#506784",
            "ticks": ""
           },
           "bgcolor": "rgb(17,17,17)",
           "caxis": {
            "gridcolor": "#506784",
            "linecolor": "#506784",
            "ticks": ""
           }
          },
          "title": {
           "x": 0.05
          },
          "updatemenudefaults": {
           "bgcolor": "#506784",
           "borderwidth": 0
          },
          "xaxis": {
           "automargin": true,
           "gridcolor": "#283442",
           "linecolor": "#506784",
           "ticks": "",
           "title": {
            "standoff": 15
           },
           "zerolinecolor": "#283442",
           "zerolinewidth": 2
          },
          "yaxis": {
           "automargin": true,
           "gridcolor": "#283442",
           "linecolor": "#506784",
           "ticks": "",
           "title": {
            "standoff": 15
           },
           "zerolinecolor": "#283442",
           "zerolinewidth": 2
          }
         }
        },
        "title": {
         "text": "Tezlerin Enstitülere Dağılımı"
        },
        "width": 900
       }
      },
      "image/png": "[encoded data removed]",
      "text/html": [
       "<div>                            <div id=\"a9d56ae9-9b60-43a7-ad86-5931813292fb\" class=\"plotly-graph-div\" style=\"height:900px; width:900px;\"></div>            <script type=\"text/javascript\">                require([\"plotly\"], function(Plotly) {                    window.PLOTLYENV=window.PLOTLYENV || {};                                    if (document.getElementById(\"a9d56ae9-9b60-43a7-ad86-5931813292fb\")) {                    Plotly.newPlot(                        \"a9d56ae9-9b60-43a7-ad86-5931813292fb\",                        [{\"labels\":[\"Sosyal Bilimler Enstit\\u00fcs\\u00fc\",\"Belirsiz\",\"Fen Bilimleri Enstit\\u00fcs\\u00fc\",\"Di\\u011fer\"],\"values\":[233772,79984,241016,392909],\"type\":\"pie\"}],                        {\"template\":{\"data\":{\"barpolar\":[{\"marker\":{\"line\":{\"color\":\"rgb(17,17,17)\",\"width\":0.5},\"pattern\":{\"fillmode\":\"overlay\",\"size\":10,\"solidity\":0.2}},\"type\":\"barpolar\"}],\"bar\":[{\"error_x\":{\"color\":\"#f2f5fa\"},\"error_y\":{\"color\":\"#f2f5fa\"},\"marker\":{\"line\":{\"color\":\"rgb(17,17,17)\",\"width\":0.5},\"pattern\":{\"fillmode\":\"overlay\",\"size\":10,\"solidity\":0.2}},\"type\":\"bar\"}],\"carpet\":[{\"aaxis\":{\"endlinecolor\":\"#A2B1C6\",\"gridcolor\":\"#506784\",\"linecolor\":\"#506784\",\"minorgridcolor\":\"#506784\",\"startlinecolor\":\"#A2B1C6\"},\"baxis\":{\"endlinecolor\":\"#A2B1C6\",\"gridcolor\":\"#506784\",\"linecolor\":\"#506784\",\"minorgridcolor\":\"#506784\",\"startlinecolor\":\"#A2B1C6\"},\"type\":\"carpet\"}],\"choropleth\":[{\"colorbar\":{\"outlinewidth\":0,\"ticks\":\"\"},\"type\":\"choropleth\"}],\"contourcarpet\":[{\"colorbar\":{\"outlinewidth\":0,\"ticks\":\"\"},\"type\":\"contourcarpet\"}],\"contour\":[{\"colorbar\":{\"outlinewidth\":0,\"ticks\":\"\"},\"colorscale\":[[0.0,\"#0d0887\"],[0.1111111111111111,\"#46039f\"],[0.2222222222222222,\"#7201a8\"],[0.3333333333333333,\"#9c179e\"],[0.4444444444444444,\"#bd3786\"],[0.5555555555555556,\"#d8576b\"],[0.6666666666666666,\"#ed7953\"],[0.7777777777777778,\"#fb9f3a\"],[0.8888888888888888,\"#fdca26\"],[1.0,\"#f0f921\"]],\"type\":\"contour\"}],\"heatmapgl\":[{\"colorbar\":{\"outlinewidth\":0,\"ticks\":\"\"},\"colorscale\":[[0.0,\"#0d0887\"],[0.1111111111111111,\"#46039f\"],[0.2222222222222222,\"#7201a8\"],[0.3333333333333333,\"#9c179e\"],[0.4444444444444444,\"#bd3786\"],[0.5555555555555556,\"#d8576b\"],[0.6666666666666666,\"#ed7953\"],[0.7777777777777778,\"#fb9f3a\"],[0.8888888888888888,\"#fdca26\"],[1.0,\"#f0f921\"]],\"type\":\"heatmapgl\"}],\"heatmap\":[{\"colorbar\":{\"outlinewidth\":0,\"ticks\":\"\"},\"colorscale\":[[0.0,\"#0d0887\"],[0.1111111111111111,\"#46039f\"],[0.2222222222222222,\"#7201a8\"],[0.3333333333333333,\"#9c179e\"],[0.4444444444444444,\"#bd3786\"],[0.5555555555555556,\"#d8576b\"],[0.6666666666666666,\"#ed7953\"],[0.7777777777777778,\"#fb9f3a\"],[0.8888888888888888,\"#fdca26\"],[1.0,\"#f0f921\"]],\"type\":\"heatmap\"}],\"histogram2dcontour\":[{\"colorbar\":{\"outlinewidth\":0,\"ticks\":\"\"},\"colorscale\":[[0.0,\"#0d0887\"],[0.1111111111111111,\"#46039f\"],[0.2222222222222222,\"#7201a8\"],[0.3333333333333333,\"#9c179e\"],[0.4444444444444444,\"#bd3786\"],[0.5555555555555556,\"#d8576b\"],[0.6666666666666666,\"#ed7953\"],[0.7777777777777778,\"#fb9f3a\"],[0.8888888888888888,\"#fdca26\"],[1.0,\"#f0f921\"]],\"type\":\"histogram2dcontour\"}],\"histogram2d\":[{\"colorbar\":{\"outlinewidth\":0,\"ticks\":\"\"},\"colorscale\":[[0.0,\"#0d0887\"],[0.1111111111111111,\"#46039f\"],[0.2222222222222222,\"#7201a8\"],[0.3333333333333333,\"#9c179e\"],[0.4444444444444444,\"#bd3786\"],[0.5555555555555556,\"#d8576b\"],[0.6666666666666666,\"#ed7953\"],[0.7777777777777778,\"#fb9f3a\"],[0.8888888888888888,\"#fdca26\"],[1.0,\"#f0f921\"]],\"type\":\"histogram2d\"}],\"histogram\":[{\"marker\":{\"pattern\":{\"fillmode\":\"overlay\",\"size\":10,\"solidity\":0.2}},\"type\":\"histogram\"}],\"mesh3d\":[{\"colorbar\":{\"outlinewidth\":0,\"ticks\":\"\"},\"type\":\"mesh3d\"}],\"parcoords\":[{\"line\":{\"colorbar\":{\"outlinewidth\":0,\"ticks\":\"\"}},\"type\":\"parcoords\"}],\"pie\":[{\"automargin\":true,\"type\":\"pie\"}],\"scatter3d\":[{\"line\":{\"colorbar\":{\"outlinewidth\":0,\"ticks\":\"\"}},\"marker\":{\"colorbar\":{\"outlinewidth\":0,\"ticks\":\"\"}},\"type\":\"scatter3d\"}],\"scattercarpet\":[{\"marker\":{\"colorbar\":{\"outlinewidth\":0,\"ticks\":\"\"}},\"type\":\"scattercarpet\"}],\"scattergeo\":[{\"marker\":{\"colorbar\":{\"outlinewidth\":0,\"ticks\":\"\"}},\"type\":\"scattergeo\"}],\"scattergl\":[{\"marker\":{\"line\":{\"color\":\"#283442\"}},\"type\":\"scattergl\"}],\"scattermapbox\":[{\"marker\":{\"colorbar\":{\"outlinewidth\":0,\"ticks\":\"\"}},\"type\":\"scattermapbox\"}],\"scatterpolargl\":[{\"marker\":{\"colorbar\":{\"outlinewidth\":0,\"ticks\":\"\"}},\"type\":\"scatterpolargl\"}],\"scatterpolar\":[{\"marker\":{\"colorbar\":{\"outlinewidth\":0,\"ticks\":\"\"}},\"type\":\"scatterpolar\"}],\"scatter\":[{\"marker\":{\"line\":{\"color\":\"#283442\"}},\"type\":\"scatter\"}],\"scatterternary\":[{\"marker\":{\"colorbar\":{\"outlinewidth\":0,\"ticks\":\"\"}},\"type\":\"scatterternary\"}],\"surface\":[{\"colorbar\":{\"outlinewidth\":0,\"ticks\":\"\"},\"colorscale\":[[0.0,\"#0d0887\"],[0.1111111111111111,\"#46039f\"],[0.2222222222222222,\"#7201a8\"],[0.3333333333333333,\"#9c179e\"],[0.4444444444444444,\"#bd3786\"],[0.5555555555555556,\"#d8576b\"],[0.6666666666666666,\"#ed7953\"],[0.7777777777777778,\"#fb9f3a\"],[0.8888888888888888,\"#fdca26\"],[1.0,\"#f0f921\"]],\"type\":\"surface\"}],\"table\":[{\"cells\":{\"fill\":{\"color\":\"#506784\"},\"line\":{\"color\":\"rgb(17,17,17)\"}},\"header\":{\"fill\":{\"color\":\"#2a3f5f\"},\"line\":{\"color\":\"rgb(17,17,17)\"}},\"type\":\"table\"}]},\"layout\":{\"annotationdefaults\":{\"arrowcolor\":\"#f2f5fa\",\"arrowhead\":0,\"arrowwidth\":1},\"autotypenumbers\":\"strict\",\"coloraxis\":{\"colorbar\":{\"outlinewidth\":0,\"ticks\":\"\"}},\"colorscale\":{\"diverging\":[[0,\"#8e0152\"],[0.1,\"#c51b7d\"],[0.2,\"#de77ae\"],[0.3,\"#f1b6da\"],[0.4,\"#fde0ef\"],[0.5,\"#f7f7f7\"],[0.6,\"#e6f5d0\"],[0.7,\"#b8e186\"],[0.8,\"#7fbc41\"],[0.9,\"#4d9221\"],[1,\"#276419\"]],\"sequential\":[[0.0,\"#0d0887\"],[0.1111111111111111,\"#46039f\"],[0.2222222222222222,\"#7201a8\"],[0.3333333333333333,\"#9c179e\"],[0.4444444444444444,\"#bd3786\"],[0.5555555555555556,\"#d8576b\"],[0.6666666666666666,\"#ed7953\"],[0.7777777777777778,\"#fb9f3a\"],[0.8888888888888888,\"#fdca26\"],[1.0,\"#f0f921\"]],\"sequentialminus\":[[0.0,\"#0d0887\"],[0.1111111111111111,\"#46039f\"],[0.2222222222222222,\"#7201a8\"],[0.3333333333333333,\"#9c179e\"],[0.4444444444444444,\"#bd3786\"],[0.5555555555555556,\"#d8576b\"],[0.6666666666666666,\"#ed7953\"],[0.7777777777777778,\"#fb9f3a\"],[0.8888888888888888,\"#fdca26\"],[1.0,\"#f0f921\"]]},\"colorway\":[\"#636efa\",\"#EF553B\",\"#00cc96\",\"#ab63fa\",\"#FFA15A\",\"#19d3f3\",\"#FF6692\",\"#B6E880\",\"#FF97FF\",\"#FECB52\"],\"font\":{\"color\":\"#f2f5fa\"},\"geo\":{\"bgcolor\":\"rgb(17,17,17)\",\"lakecolor\":\"rgb(17,17,17)\",\"landcolor\":\"rgb(17,17,17)\",\"showlakes\":true,\"showland\":true,\"subunitcolor\":\"#506784\"},\"hoverlabel\":{\"align\":\"left\"},\"hovermode\":\"closest\",\"mapbox\":{\"style\":\"dark\"},\"paper_bgcolor\":\"rgb(17,17,17)\",\"plot_bgcolor\":\"rgb(17,17,17)\",\"polar\":{\"angularaxis\":{\"gridcolor\":\"#506784\",\"linecolor\":\"#506784\",\"ticks\":\"\"},\"bgcolor\":\"rgb(17,17,17)\",\"radialaxis\":{\"gridcolor\":\"#506784\",\"linecolor\":\"#506784\",\"ticks\":\"\"}},\"scene\":{\"xaxis\":{\"backgroundcolor\":\"rgb(17,17,17)\",\"gridcolor\":\"#506784\",\"gridwidth\":2,\"linecolor\":\"#506784\",\"showbackground\":true,\"ticks\":\"\",\"zerolinecolor\":\"#C8D4E3\"},\"yaxis\":{\"backgroundcolor\":\"rgb(17,17,17)\",\"gridcolor\":\"#506784\",\"gridwidth\":2,\"linecolor\":\"#506784\",\"showbackground\":true,\"ticks\":\"\",\"zerolinecolor\":\"#C8D4E3\"},\"zaxis\":{\"backgroundcolor\":\"rgb(17,17,17)\",\"gridcolor\":\"#506784\",\"gridwidth\":2,\"linecolor\":\"#506784\",\"showbackground\":true,\"ticks\":\"\",\"zerolinecolor\":\"#C8D4E3\"}},\"shapedefaults\":{\"line\":{\"color\":\"#f2f5fa\"}},\"sliderdefaults\":{\"bgcolor\":\"#C8D4E3\",\"bordercolor\":\"rgb(17,17,17)\",\"borderwidth\":1,\"tickwidth\":0},\"ternary\":{\"aaxis\":{\"gridcolor\":\"#506784\",\"linecolor\":\"#506784\",\"ticks\":\"\"},\"baxis\":{\"gridcolor\":\"#506784\",\"linecolor\":\"#506784\",\"ticks\":\"\"},\"bgcolor\":\"rgb(17,17,17)\",\"caxis\":{\"gridcolor\":\"#506784\",\"linecolor\":\"#506784\",\"ticks\":\"\"}},\"title\":{\"x\":0.05},\"updatemenudefaults\":{\"bgcolor\":\"#506784\",\"borderwidth\":0},\"xaxis\":{\"automargin\":true,\"gridcolor\":\"#283442\",\"linecolor\":\"#506784\",\"ticks\":\"\",\"title\":{\"standoff\":15},\"zerolinecolor\":\"#283442\",\"zerolinewidth\":2},\"yaxis\":{\"automargin\":true,\"gridcolor\":\"#283442\",\"linecolor\":\"#506784\",\"ticks\":\"\",\"title\":{\"standoff\":15},\"zerolinecolor\":\"#283442\",\"zerolinewidth\":2}}},\"width\":900,\"height\":900,\"title\":{\"text\":\"Tezlerin Enstit\\u00fclere Da\\u011f\\u0131l\\u0131m\\u0131\"}},                        {\"responsive\": true}                    ).then(function(){\n",
       "                            \n",
       "var gd = document.getElementById('a9d56ae9-9b60-43a7-ad86-5931813292fb');\n",
       "var x = new MutationObserver(function (mutations, observer) {{\n",
       "        var display = window.getComputedStyle(gd).display;\n",
       "        if (!display || display === 'none') {{\n",
       "            console.log([gd, 'removed!']);\n",
       "            Plotly.purge(gd);\n",
       "            observer.disconnect();\n",
       "        }}\n",
       "}});\n",
       "\n",
       "// Listen for the removal of the full notebook cells\n",
       "var notebookContainer = gd.closest('#notebook-container');\n",
       "if (notebookContainer) {{\n",
       "    x.observe(notebookContainer, {childList: true});\n",
       "}}\n",
       "\n",
       "// Listen for the clearing of the current output cell\n",
       "var outputEl = gd.closest('.output');\n",
       "if (outputEl) {{\n",
       "    x.observe(outputEl, {childList: true});\n",
       "}}\n",
       "\n",
       "                        })                };                });            </script>        </div>"
      ]
     },
     "metadata": {},
     "output_type": "display_data"
    }
   ],
   "source": [
    "sosyal_bilimler =['Sosyal', 'Beşeri', 'İnsan ve Toplum']\n",
    "belirsiz = ['Mevlana', 'Medeniyet', 'İslam', 'Türk', 'Lisans', 'Alevi', 'Akdeniz', 'Avrupa', 'Atatürk', 'Bölge', 'Eğitim', 'Tasavvuf']\n",
    "sb_dışı = ['Hasta', 'Diş','Tıp', 'Hast.','Sağlı','Eczacılık', 'Onkoloji', 'Kanser', 'Hücre', 'Nakl', 'Kardiyo', 'Acil', 'sıhha',\n",
    "           'Spor','Uzay', 'tıp', 'Biyo','Mühendis','İşletme','İktisat', 'Adli', 'Enerji', 'Savunma', 'Çevre',\n",
    "           'Matematik','Müzik', 'Fen', 'Yerbilim', 'Nükleer', 'Güneş', 'Deniz', 'Deprem',\n",
    "           'Prify', 'Hamburg',\n",
    "           'eknoloji', 'Finans', 'Ticaret', 'Banka', 'Muhasebe',\n",
    "           'None']\n",
    "\n",
    "sosyal_bilimler_filtre = df.enstitü.str.contains( '|'.join(sosyal_bilimler), na=False)\n",
    "belirsiz_filtre = df.enstitü.str.contains( '|'.join(belirsiz), na=False)\n",
    "sb_dışı_filtre = df.enstitü.str.contains( '|'.join(sb_dışı), na=False)\n",
    "\n",
    "enstitü_tablosu = pd.DataFrame(np.append( df.enstitü.dropna().sort_values().unique(), ['None']*4 ).reshape(-1,10))\n",
    "#enstitü_tablosu = pd.DataFrame(enstitü_isimleri.unique().reshape(-1,10))\n",
    "def color_filter(x):\n",
    "    if re.compile('|'.join(sb_dışı)).findall(x):\n",
    "        return 'opacity:30%'\n",
    "    \n",
    "    elif re.compile('|'.join(sosyal_bilimler)).findall(x):\n",
    "        return 'background-color:green'\n",
    "\n",
    "    else:# re.compile('|'.join(belirsiz)).findall(x):\n",
    "        return 'color:black;background-color:yellow'\n",
    "\n",
    "display(enstitü_tablosu.style.applymap(lambda x: color_filter(x) ))\n",
    "\n",
    "fig = go.Figure()\n",
    "fig.add_trace(  go.Pie(\n",
    "    labels=['Sosyal Bilimler Enstitüsü', 'Belirsiz', 'Fen Bilimleri Enstitüsü', 'Diğer'],\n",
    "    values=[ df.enstitü.loc[sosyal_bilimler_filtre].count(), df.enstitü.loc[belirsiz_filtre].count(), df.enstitü.loc[df.enstitü.str.contains('Fen', na=False)].count(),df.enstitü.loc[sb_dışı_filtre].count()],\n",
    "    ))\n",
    "fig.update_layout(template='plotly_dark', width=900, height=900, title='Tezlerin Enstitülere Dağılımı',)\n",
    "fig.show()\n"
   ]
  },
  {
   "cell_type": "markdown",
   "metadata": {},
   "source": [
    "Verileri yalnızca sosyal bilimler enstitülerinden gelen verilere daraltıyoruz."
   ]
  },
  {
   "cell_type": "code",
   "execution_count": 5,
   "metadata": {
    "jupyter": {
     "source_hidden": true
    },
    "slideshow": {
     "slide_type": "slide"
    }
   },
   "outputs": [],
   "source": [
    "sb = df.loc[sosyal_bilimler_filtre]"
   ]
  },
  {
   "cell_type": "code",
   "execution_count": 8,
   "metadata": {
    "jupyter": {
     "source_hidden": true
    },
    "slideshow": {
     "slide_type": "slide"
    },
    "tags": []
   },
   "outputs": [
    {
     "data": {
      "application/vnd.plotly.v1+json": {
       "config": {
        "plotlyServerURL": "https://plot.ly"
       },
       "data": [
        {
         "name": "Sosyal Bilimler Tez Sayısı",
         "type": "bar",
         "x": [
          1960,
          1962,
          1964,
          1965,
          1966,
          1967,
          1968,
          1969,
          1970,
          1971,
          1972,
          1973,
          1974,
          1975,
          1976,
          1977,
          1978,
          1979,
          1980,
          1981,
          1982,
          1983,
          1984,
          1985,
          1986,
          1987,
          1988,
          1989,
          1990,
          1991,
          1992,
          1993,
          1994,
          1995,
          1996,
          1997,
          1998,
          1999,
          2000,
          2001,
          2002,
          2003,
          2004,
          2005,
          2006,
          2007,
          2008,
          2009,
          2010,
          2011,
          2012,
          2013,
          2014,
          2015,
          2016,
          2017,
          2018,
          2019,
          2020,
          2021,
          2022
         ],
         "y": [
          1,
          1,
          4,
          2,
          2,
          3,
          3,
          1,
          1,
          8,
          7,
          33,
          35,
          35,
          20,
          17,
          30,
          33,
          33,
          60,
          67,
          73,
          159,
          276,
          379,
          467,
          743,
          929,
          877,
          371,
          510,
          1446,
          1579,
          768,
          1287,
          3053,
          3772,
          3840,
          3009,
          3642,
          4994,
          4614,
          5039,
          5319,
          7079,
          7269,
          6707,
          7274,
          9936,
          7689,
          6907,
          7742,
          9087,
          10202,
          10666,
          12228,
          15065,
          29510,
          12659,
          13550,
          12660
         ]
        },
        {
         "line": {
          "smoothing": 1.3,
          "width": 2.5
         },
         "mode": "lines+markers",
         "name": "Yüzdelik Dilim",
         "type": "scatter",
         "x": [
          1960,
          1962,
          1964,
          1965,
          1966,
          1967,
          1968,
          1969,
          1970,
          1971,
          1972,
          1973,
          1974,
          1975,
          1976,
          1977,
          1978,
          1979,
          1980,
          1981,
          1982,
          1983,
          1984,
          1985,
          1986,
          1987,
          1988,
          1989,
          1990,
          1991,
          1992,
          1993,
          1994,
          1995,
          1996,
          1997,
          1998,
          1999,
          2000,
          2001,
          2002,
          2003,
          2004,
          2005,
          2006,
          2007,
          2008,
          2009,
          2010,
          2011,
          2012,
          2013,
          2014,
          2015,
          2016,
          2017,
          2018,
          2019,
          2020,
          2021,
          2022
         ],
         "xaxis": "x",
         "y": [
          100,
          50,
          66.66666666666666,
          40,
          25,
          30,
          11.11111111111111,
          3.225806451612903,
          1.7543859649122806,
          7.766990291262135,
          6.140350877192982,
          22.448979591836736,
          15.695067264573993,
          15.021459227467812,
          7.2202166064981945,
          5.629139072847682,
          8.695652173913043,
          8.12807881773399,
          7.44920993227991,
          11.787819253438114,
          13.900414937759336,
          10.3988603988604,
          15.773809523809524,
          17.523809523809526,
          19.760166840458812,
          17.783701447067784,
          20.130046057978866,
          22.24616858237548,
          18.05269658295595,
          6.901041666666667,
          8.515611955251295,
          22.717989002356635,
          21.257404415724288,
          8.703535811423391,
          11.758793969849247,
          29.054054054054053,
          33.03266485681758,
          34.31022158684775,
          30.91544230966814,
          29.35439671153381,
          34.52948904100118,
          30.751799520127964,
          30.48581281384234,
          30.200999318646378,
          34.65341687879381,
          36.580947108852094,
          34.25609070943358,
          33.2206795761783,
          35.350624399615754,
          30.3217919394274,
          29.415271921979475,
          30.582658502863914,
          32.515117901742585,
          34.10329266254388,
          33.88828874626676,
          33.605408525022675,
          35.75497223145203,
          38.98900750449212,
          31.275323648581875,
          27.70168050047021,
          25.185509379911274
         ],
         "yaxis": "y2"
        }
       ],
       "layout": {
        "annotations": [
         {
          "showarrow": false,
          "text": "Veri Toplama Tarihi",
          "x": 2022,
          "xanchor": "left",
          "xref": "x",
          "y": 1,
          "yanchor": "top",
          "yref": "y domain"
         },
         {
          "showarrow": false,
          "text": "Yıllık Ortalama: 3832",
          "x": 0.085,
          "xanchor": "right",
          "xref": "x domain",
          "y": 3832.3278688524592,
          "yanchor": "bottom",
          "yref": "y"
         }
        ],
        "autosize": true,
        "hovermode": "x",
        "shapes": [
         {
          "line": {
           "color": "red",
           "dash": "dash"
          },
          "opacity": 0.2,
          "type": "line",
          "x0": 2022,
          "x1": 2022,
          "xref": "x",
          "y0": 0,
          "y1": 1,
          "yref": "y domain"
         },
         {
          "line": {
           "color": "gold",
           "dash": "dash"
          },
          "opacity": 0.2,
          "type": "line",
          "x0": 0,
          "x1": 1,
          "xref": "x domain",
          "y0": 3832.3278688524592,
          "y1": 3832.3278688524592,
          "yref": "y"
         }
        ],
        "template": {
         "data": {
          "bar": [
           {
            "error_x": {
             "color": "#f2f5fa"
            },
            "error_y": {
             "color": "#f2f5fa"
            },
            "marker": {
             "line": {
              "color": "rgb(17,17,17)",
              "width": 0.5
             },
             "pattern": {
              "fillmode": "overlay",
              "size": 10,
              "solidity": 0.2
             }
            },
            "type": "bar"
           }
          ],
          "barpolar": [
           {
            "marker": {
             "line": {
              "color": "rgb(17,17,17)",
              "width": 0.5
             },
             "pattern": {
              "fillmode": "overlay",
              "size": 10,
              "solidity": 0.2
             }
            },
            "type": "barpolar"
           }
          ],
          "carpet": [
           {
            "aaxis": {
             "endlinecolor": "#A2B1C6",
             "gridcolor": "#506784",
             "linecolor": "#506784",
             "minorgridcolor": "#506784",
             "startlinecolor": "#A2B1C6"
            },
            "baxis": {
             "endlinecolor": "#A2B1C6",
             "gridcolor": "#506784",
             "linecolor": "#506784",
             "minorgridcolor": "#506784",
             "startlinecolor": "#A2B1C6"
            },
            "type": "carpet"
           }
          ],
          "choropleth": [
           {
            "colorbar": {
             "outlinewidth": 0,
             "ticks": ""
            },
            "type": "choropleth"
           }
          ],
          "contour": [
           {
            "colorbar": {
             "outlinewidth": 0,
             "ticks": ""
            },
            "colorscale": [
             [
              0,
              "#0d0887"
             ],
             [
              0.1111111111111111,
              "#46039f"
             ],
             [
              0.2222222222222222,
              "#7201a8"
             ],
             [
              0.3333333333333333,
              "#9c179e"
             ],
             [
              0.4444444444444444,
              "#bd3786"
             ],
             [
              0.5555555555555556,
              "#d8576b"
             ],
             [
              0.6666666666666666,
              "#ed7953"
             ],
             [
              0.7777777777777778,
              "#fb9f3a"
             ],
             [
              0.8888888888888888,
              "#fdca26"
             ],
             [
              1,
              "#f0f921"
             ]
            ],
            "type": "contour"
           }
          ],
          "contourcarpet": [
           {
            "colorbar": {
             "outlinewidth": 0,
             "ticks": ""
            },
            "type": "contourcarpet"
           }
          ],
          "heatmap": [
           {
            "colorbar": {
             "outlinewidth": 0,
             "ticks": ""
            },
            "colorscale": [
             [
              0,
              "#0d0887"
             ],
             [
              0.1111111111111111,
              "#46039f"
             ],
             [
              0.2222222222222222,
              "#7201a8"
             ],
             [
              0.3333333333333333,
              "#9c179e"
             ],
             [
              0.4444444444444444,
              "#bd3786"
             ],
             [
              0.5555555555555556,
              "#d8576b"
             ],
             [
              0.6666666666666666,
              "#ed7953"
             ],
             [
              0.7777777777777778,
              "#fb9f3a"
             ],
             [
              0.8888888888888888,
              "#fdca26"
             ],
             [
              1,
              "#f0f921"
             ]
            ],
            "type": "heatmap"
           }
          ],
          "heatmapgl": [
           {
            "colorbar": {
             "outlinewidth": 0,
             "ticks": ""
            },
            "colorscale": [
             [
              0,
              "#0d0887"
             ],
             [
              0.1111111111111111,
              "#46039f"
             ],
             [
              0.2222222222222222,
              "#7201a8"
             ],
             [
              0.3333333333333333,
              "#9c179e"
             ],
             [
              0.4444444444444444,
              "#bd3786"
             ],
             [
              0.5555555555555556,
              "#d8576b"
             ],
             [
              0.6666666666666666,
              "#ed7953"
             ],
             [
              0.7777777777777778,
              "#fb9f3a"
             ],
             [
              0.8888888888888888,
              "#fdca26"
             ],
             [
              1,
              "#f0f921"
             ]
            ],
            "type": "heatmapgl"
           }
          ],
          "histogram": [
           {
            "marker": {
             "pattern": {
              "fillmode": "overlay",
              "size": 10,
              "solidity": 0.2
             }
            },
            "type": "histogram"
           }
          ],
          "histogram2d": [
           {
            "colorbar": {
             "outlinewidth": 0,
             "ticks": ""
            },
            "colorscale": [
             [
              0,
              "#0d0887"
             ],
             [
              0.1111111111111111,
              "#46039f"
             ],
             [
              0.2222222222222222,
              "#7201a8"
             ],
             [
              0.3333333333333333,
              "#9c179e"
             ],
             [
              0.4444444444444444,
              "#bd3786"
             ],
             [
              0.5555555555555556,
              "#d8576b"
             ],
             [
              0.6666666666666666,
              "#ed7953"
             ],
             [
              0.7777777777777778,
              "#fb9f3a"
             ],
             [
              0.8888888888888888,
              "#fdca26"
             ],
             [
              1,
              "#f0f921"
             ]
            ],
            "type": "histogram2d"
           }
          ],
          "histogram2dcontour": [
           {
            "colorbar": {
             "outlinewidth": 0,
             "ticks": ""
            },
            "colorscale": [
             [
              0,
              "#0d0887"
             ],
             [
              0.1111111111111111,
              "#46039f"
             ],
             [
              0.2222222222222222,
              "#7201a8"
             ],
             [
              0.3333333333333333,
              "#9c179e"
             ],
             [
              0.4444444444444444,
              "#bd3786"
             ],
             [
              0.5555555555555556,
              "#d8576b"
             ],
             [
              0.6666666666666666,
              "#ed7953"
             ],
             [
              0.7777777777777778,
              "#fb9f3a"
             ],
             [
              0.8888888888888888,
              "#fdca26"
             ],
             [
              1,
              "#f0f921"
             ]
            ],
            "type": "histogram2dcontour"
           }
          ],
          "mesh3d": [
           {
            "colorbar": {
             "outlinewidth": 0,
             "ticks": ""
            },
            "type": "mesh3d"
           }
          ],
          "parcoords": [
           {
            "line": {
             "colorbar": {
              "outlinewidth": 0,
              "ticks": ""
             }
            },
            "type": "parcoords"
           }
          ],
          "pie": [
           {
            "automargin": true,
            "type": "pie"
           }
          ],
          "scatter": [
           {
            "marker": {
             "line": {
              "color": "#283442"
             }
            },
            "type": "scatter"
           }
          ],
          "scatter3d": [
           {
            "line": {
             "colorbar": {
              "outlinewidth": 0,
              "ticks": ""
             }
            },
            "marker": {
             "colorbar": {
              "outlinewidth": 0,
              "ticks": ""
             }
            },
            "type": "scatter3d"
           }
          ],
          "scattercarpet": [
           {
            "marker": {
             "colorbar": {
              "outlinewidth": 0,
              "ticks": ""
             }
            },
            "type": "scattercarpet"
           }
          ],
          "scattergeo": [
           {
            "marker": {
             "colorbar": {
              "outlinewidth": 0,
              "ticks": ""
             }
            },
            "type": "scattergeo"
           }
          ],
          "scattergl": [
           {
            "marker": {
             "line": {
              "color": "#283442"
             }
            },
            "type": "scattergl"
           }
          ],
          "scattermapbox": [
           {
            "marker": {
             "colorbar": {
              "outlinewidth": 0,
              "ticks": ""
             }
            },
            "type": "scattermapbox"
           }
          ],
          "scatterpolar": [
           {
            "marker": {
             "colorbar": {
              "outlinewidth": 0,
              "ticks": ""
             }
            },
            "type": "scatterpolar"
           }
          ],
          "scatterpolargl": [
           {
            "marker": {
             "colorbar": {
              "outlinewidth": 0,
              "ticks": ""
             }
            },
            "type": "scatterpolargl"
           }
          ],
          "scatterternary": [
           {
            "marker": {
             "colorbar": {
              "outlinewidth": 0,
              "ticks": ""
             }
            },
            "type": "scatterternary"
           }
          ],
          "surface": [
           {
            "colorbar": {
             "outlinewidth": 0,
             "ticks": ""
            },
            "colorscale": [
             [
              0,
              "#0d0887"
             ],
             [
              0.1111111111111111,
              "#46039f"
             ],
             [
              0.2222222222222222,
              "#7201a8"
             ],
             [
              0.3333333333333333,
              "#9c179e"
             ],
             [
              0.4444444444444444,
              "#bd3786"
             ],
             [
              0.5555555555555556,
              "#d8576b"
             ],
             [
              0.6666666666666666,
              "#ed7953"
             ],
             [
              0.7777777777777778,
              "#fb9f3a"
             ],
             [
              0.8888888888888888,
              "#fdca26"
             ],
             [
              1,
              "#f0f921"
             ]
            ],
            "type": "surface"
           }
          ],
          "table": [
           {
            "cells": {
             "fill": {
              "color": "#506784"
             },
             "line": {
              "color": "rgb(17,17,17)"
             }
            },
            "header": {
             "fill": {
              "color": "#2a3f5f"
             },
             "line": {
              "color": "rgb(17,17,17)"
             }
            },
            "type": "table"
           }
          ]
         },
         "layout": {
          "annotationdefaults": {
           "arrowcolor": "#f2f5fa",
           "arrowhead": 0,
           "arrowwidth": 1
          },
          "autotypenumbers": "strict",
          "coloraxis": {
           "colorbar": {
            "outlinewidth": 0,
            "ticks": ""
           }
          },
          "colorscale": {
           "diverging": [
            [
             0,
             "#8e0152"
            ],
            [
             0.1,
             "#c51b7d"
            ],
            [
             0.2,
             "#de77ae"
            ],
            [
             0.3,
             "#f1b6da"
            ],
            [
             0.4,
             "#fde0ef"
            ],
            [
             0.5,
             "#f7f7f7"
            ],
            [
             0.6,
             "#e6f5d0"
            ],
            [
             0.7,
             "#b8e186"
            ],
            [
             0.8,
             "#7fbc41"
            ],
            [
             0.9,
             "#4d9221"
            ],
            [
             1,
             "#276419"
            ]
           ],
           "sequential": [
            [
             0,
             "#0d0887"
            ],
            [
             0.1111111111111111,
             "#46039f"
            ],
            [
             0.2222222222222222,
             "#7201a8"
            ],
            [
             0.3333333333333333,
             "#9c179e"
            ],
            [
             0.4444444444444444,
             "#bd3786"
            ],
            [
             0.5555555555555556,
             "#d8576b"
            ],
            [
             0.6666666666666666,
             "#ed7953"
            ],
            [
             0.7777777777777778,
             "#fb9f3a"
            ],
            [
             0.8888888888888888,
             "#fdca26"
            ],
            [
             1,
             "#f0f921"
            ]
           ],
           "sequentialminus": [
            [
             0,
             "#0d0887"
            ],
            [
             0.1111111111111111,
             "#46039f"
            ],
            [
             0.2222222222222222,
             "#7201a8"
            ],
            [
             0.3333333333333333,
             "#9c179e"
            ],
            [
             0.4444444444444444,
             "#bd3786"
            ],
            [
             0.5555555555555556,
             "#d8576b"
            ],
            [
             0.6666666666666666,
             "#ed7953"
            ],
            [
             0.7777777777777778,
             "#fb9f3a"
            ],
            [
             0.8888888888888888,
             "#fdca26"
            ],
            [
             1,
             "#f0f921"
            ]
           ]
          },
          "colorway": [
           "#636efa",
           "#EF553B",
           "#00cc96",
           "#ab63fa",
           "#FFA15A",
           "#19d3f3",
           "#FF6692",
           "#B6E880",
           "#FF97FF",
           "#FECB52"
          ],
          "font": {
           "color": "#f2f5fa"
          },
          "geo": {
           "bgcolor": "rgb(17,17,17)",
           "lakecolor": "rgb(17,17,17)",
           "landcolor": "rgb(17,17,17)",
           "showlakes": true,
           "showland": true,
           "subunitcolor": "#506784"
          },
          "hoverlabel": {
           "align": "left"
          },
          "hovermode": "closest",
          "mapbox": {
           "style": "dark"
          },
          "paper_bgcolor": "rgb(17,17,17)",
          "plot_bgcolor": "rgb(17,17,17)",
          "polar": {
           "angularaxis": {
            "gridcolor": "#506784",
            "linecolor": "#506784",
            "ticks": ""
           },
           "bgcolor": "rgb(17,17,17)",
           "radialaxis": {
            "gridcolor": "#506784",
            "linecolor": "#506784",
            "ticks": ""
           }
          },
          "scene": {
           "xaxis": {
            "backgroundcolor": "rgb(17,17,17)",
            "gridcolor": "#506784",
            "gridwidth": 2,
            "linecolor": "#506784",
            "showbackground": true,
            "ticks": "",
            "zerolinecolor": "#C8D4E3"
           },
           "yaxis": {
            "backgroundcolor": "rgb(17,17,17)",
            "gridcolor": "#506784",
            "gridwidth": 2,
            "linecolor": "#506784",
            "showbackground": true,
            "ticks": "",
            "zerolinecolor": "#C8D4E3"
           },
           "zaxis": {
            "backgroundcolor": "rgb(17,17,17)",
            "gridcolor": "#506784",
            "gridwidth": 2,
            "linecolor": "#506784",
            "showbackground": true,
            "ticks": "",
            "zerolinecolor": "#C8D4E3"
           }
          },
          "shapedefaults": {
           "line": {
            "color": "#f2f5fa"
           }
          },
          "sliderdefaults": {
           "bgcolor": "#C8D4E3",
           "bordercolor": "rgb(17,17,17)",
           "borderwidth": 1,
           "tickwidth": 0
          },
          "ternary": {
           "aaxis": {
            "gridcolor": "#506784",
            "linecolor": "#506784",
            "ticks": ""
           },
           "baxis": {
            "gridcolor": "#506784",
            "linecolor": "#506784",
            "ticks": ""
           },
           "bgcolor": "rgb(17,17,17)",
           "caxis": {
            "gridcolor": "#506784",
            "linecolor": "#506784",
            "ticks": ""
           }
          },
          "title": {
           "x": 0.05
          },
          "updatemenudefaults": {
           "bgcolor": "#506784",
           "borderwidth": 0
          },
          "xaxis": {
           "automargin": true,
           "gridcolor": "#283442",
           "linecolor": "#506784",
           "ticks": "",
           "title": {
            "standoff": 15
           },
           "zerolinecolor": "#283442",
           "zerolinewidth": 2
          },
          "yaxis": {
           "automargin": true,
           "gridcolor": "#283442",
           "linecolor": "#506784",
           "ticks": "",
           "title": {
            "standoff": 15
           },
           "zerolinecolor": "#283442",
           "zerolinewidth": 2
          }
         }
        },
        "title": {
         "text": "Sosyal Bilimler Tezlerinin Yıllara Dağılımı"
        },
        "xaxis": {
         "anchor": "y",
         "autorange": true,
         "domain": [
          0,
          0.94
         ],
         "range": [
          1956.1111898874997,
          2028.988741531392
         ],
         "type": "linear"
        },
        "yaxis": {
         "anchor": "x",
         "autorange": true,
         "domain": [
          0,
          1
         ],
         "range": [
          0,
          31063.157894736843
         ],
         "type": "linear"
        },
        "yaxis2": {
         "anchor": "x",
         "autorange": true,
         "overlaying": "y",
         "range": [
          -6.353261795264862,
          108.10764776017714
         ],
         "side": "right",
         "type": "linear"
        }
       }
      },
      "image/png": "[encoded data removed]",
      "text/html": [
       "<div>                            <div id=\"1609157c-e4f2-4cc1-a4bb-890796caa462\" class=\"plotly-graph-div\" style=\"height:525px; width:100%;\"></div>            <script type=\"text/javascript\">                require([\"plotly\"], function(Plotly) {                    window.PLOTLYENV=window.PLOTLYENV || {};                                    if (document.getElementById(\"1609157c-e4f2-4cc1-a4bb-890796caa462\")) {                    Plotly.newPlot(                        \"1609157c-e4f2-4cc1-a4bb-890796caa462\",                        [{\"name\":\"Sosyal Bilimler Tez Say\\u0131s\\u0131\",\"x\":[1960,1962,1964,1965,1966,1967,1968,1969,1970,1971,1972,1973,1974,1975,1976,1977,1978,1979,1980,1981,1982,1983,1984,1985,1986,1987,1988,1989,1990,1991,1992,1993,1994,1995,1996,1997,1998,1999,2000,2001,2002,2003,2004,2005,2006,2007,2008,2009,2010,2011,2012,2013,2014,2015,2016,2017,2018,2019,2020,2021,2022],\"y\":[1,1,4,2,2,3,3,1,1,8,7,33,35,35,20,17,30,33,33,60,67,73,159,276,379,467,743,929,877,371,510,1446,1579,768,1287,3053,3772,3840,3009,3642,4994,4614,5039,5319,7079,7269,6707,7274,9936,7689,6907,7742,9087,10202,10666,12228,15065,29510,12659,13550,12660],\"type\":\"bar\"},{\"line\":{\"smoothing\":1.3,\"width\":2.5},\"mode\":\"lines+markers\",\"name\":\"Y\\u00fczdelik Dilim\",\"x\":[1960,1962,1964,1965,1966,1967,1968,1969,1970,1971,1972,1973,1974,1975,1976,1977,1978,1979,1980,1981,1982,1983,1984,1985,1986,1987,1988,1989,1990,1991,1992,1993,1994,1995,1996,1997,1998,1999,2000,2001,2002,2003,2004,2005,2006,2007,2008,2009,2010,2011,2012,2013,2014,2015,2016,2017,2018,2019,2020,2021,2022],\"y\":[100.0,50.0,66.66666666666666,40.0,25.0,30.0,11.11111111111111,3.225806451612903,1.7543859649122806,7.766990291262135,6.140350877192982,22.448979591836736,15.695067264573993,15.021459227467812,7.2202166064981945,5.629139072847682,8.695652173913043,8.12807881773399,7.44920993227991,11.787819253438114,13.900414937759336,10.3988603988604,15.773809523809524,17.523809523809526,19.760166840458812,17.783701447067784,20.130046057978866,22.24616858237548,18.05269658295595,6.901041666666667,8.515611955251295,22.717989002356635,21.257404415724288,8.703535811423391,11.758793969849247,29.054054054054053,33.03266485681758,34.31022158684775,30.91544230966814,29.35439671153381,34.52948904100118,30.751799520127964,30.48581281384234,30.200999318646378,34.65341687879381,36.580947108852094,34.25609070943358,33.2206795761783,35.350624399615754,30.3217919394274,29.415271921979475,30.582658502863914,32.515117901742585,34.10329266254388,33.88828874626676,33.605408525022675,35.75497223145203,38.98900750449212,31.275323648581875,27.70168050047021,25.185509379911274],\"type\":\"scatter\",\"xaxis\":\"x\",\"yaxis\":\"y2\"}],                        {\"template\":{\"data\":{\"barpolar\":[{\"marker\":{\"line\":{\"color\":\"rgb(17,17,17)\",\"width\":0.5},\"pattern\":{\"fillmode\":\"overlay\",\"size\":10,\"solidity\":0.2}},\"type\":\"barpolar\"}],\"bar\":[{\"error_x\":{\"color\":\"#f2f5fa\"},\"error_y\":{\"color\":\"#f2f5fa\"},\"marker\":{\"line\":{\"color\":\"rgb(17,17,17)\",\"width\":0.5},\"pattern\":{\"fillmode\":\"overlay\",\"size\":10,\"solidity\":0.2}},\"type\":\"bar\"}],\"carpet\":[{\"aaxis\":{\"endlinecolor\":\"#A2B1C6\",\"gridcolor\":\"#506784\",\"linecolor\":\"#506784\",\"minorgridcolor\":\"#506784\",\"startlinecolor\":\"#A2B1C6\"},\"baxis\":{\"endlinecolor\":\"#A2B1C6\",\"gridcolor\":\"#506784\",\"linecolor\":\"#506784\",\"minorgridcolor\":\"#506784\",\"startlinecolor\":\"#A2B1C6\"},\"type\":\"carpet\"}],\"choropleth\":[{\"colorbar\":{\"outlinewidth\":0,\"ticks\":\"\"},\"type\":\"choropleth\"}],\"contourcarpet\":[{\"colorbar\":{\"outlinewidth\":0,\"ticks\":\"\"},\"type\":\"contourcarpet\"}],\"contour\":[{\"colorbar\":{\"outlinewidth\":0,\"ticks\":\"\"},\"colorscale\":[[0.0,\"#0d0887\"],[0.1111111111111111,\"#46039f\"],[0.2222222222222222,\"#7201a8\"],[0.3333333333333333,\"#9c179e\"],[0.4444444444444444,\"#bd3786\"],[0.5555555555555556,\"#d8576b\"],[0.6666666666666666,\"#ed7953\"],[0.7777777777777778,\"#fb9f3a\"],[0.8888888888888888,\"#fdca26\"],[1.0,\"#f0f921\"]],\"type\":\"contour\"}],\"heatmapgl\":[{\"colorbar\":{\"outlinewidth\":0,\"ticks\":\"\"},\"colorscale\":[[0.0,\"#0d0887\"],[0.1111111111111111,\"#46039f\"],[0.2222222222222222,\"#7201a8\"],[0.3333333333333333,\"#9c179e\"],[0.4444444444444444,\"#bd3786\"],[0.5555555555555556,\"#d8576b\"],[0.6666666666666666,\"#ed7953\"],[0.7777777777777778,\"#fb9f3a\"],[0.8888888888888888,\"#fdca26\"],[1.0,\"#f0f921\"]],\"type\":\"heatmapgl\"}],\"heatmap\":[{\"colorbar\":{\"outlinewidth\":0,\"ticks\":\"\"},\"colorscale\":[[0.0,\"#0d0887\"],[0.1111111111111111,\"#46039f\"],[0.2222222222222222,\"#7201a8\"],[0.3333333333333333,\"#9c179e\"],[0.4444444444444444,\"#bd3786\"],[0.5555555555555556,\"#d8576b\"],[0.6666666666666666,\"#ed7953\"],[0.7777777777777778,\"#fb9f3a\"],[0.8888888888888888,\"#fdca26\"],[1.0,\"#f0f921\"]],\"type\":\"heatmap\"}],\"histogram2dcontour\":[{\"colorbar\":{\"outlinewidth\":0,\"ticks\":\"\"},\"colorscale\":[[0.0,\"#0d0887\"],[0.1111111111111111,\"#46039f\"],[0.2222222222222222,\"#7201a8\"],[0.3333333333333333,\"#9c179e\"],[0.4444444444444444,\"#bd3786\"],[0.5555555555555556,\"#d8576b\"],[0.6666666666666666,\"#ed7953\"],[0.7777777777777778,\"#fb9f3a\"],[0.8888888888888888,\"#fdca26\"],[1.0,\"#f0f921\"]],\"type\":\"histogram2dcontour\"}],\"histogram2d\":[{\"colorbar\":{\"outlinewidth\":0,\"ticks\":\"\"},\"colorscale\":[[0.0,\"#0d0887\"],[0.1111111111111111,\"#46039f\"],[0.2222222222222222,\"#7201a8\"],[0.3333333333333333,\"#9c179e\"],[0.4444444444444444,\"#bd3786\"],[0.5555555555555556,\"#d8576b\"],[0.6666666666666666,\"#ed7953\"],[0.7777777777777778,\"#fb9f3a\"],[0.8888888888888888,\"#fdca26\"],[1.0,\"#f0f921\"]],\"type\":\"histogram2d\"}],\"histogram\":[{\"marker\":{\"pattern\":{\"fillmode\":\"overlay\",\"size\":10,\"solidity\":0.2}},\"type\":\"histogram\"}],\"mesh3d\":[{\"colorbar\":{\"outlinewidth\":0,\"ticks\":\"\"},\"type\":\"mesh3d\"}],\"parcoords\":[{\"line\":{\"colorbar\":{\"outlinewidth\":0,\"ticks\":\"\"}},\"type\":\"parcoords\"}],\"pie\":[{\"automargin\":true,\"type\":\"pie\"}],\"scatter3d\":[{\"line\":{\"colorbar\":{\"outlinewidth\":0,\"ticks\":\"\"}},\"marker\":{\"colorbar\":{\"outlinewidth\":0,\"ticks\":\"\"}},\"type\":\"scatter3d\"}],\"scattercarpet\":[{\"marker\":{\"colorbar\":{\"outlinewidth\":0,\"ticks\":\"\"}},\"type\":\"scattercarpet\"}],\"scattergeo\":[{\"marker\":{\"colorbar\":{\"outlinewidth\":0,\"ticks\":\"\"}},\"type\":\"scattergeo\"}],\"scattergl\":[{\"marker\":{\"line\":{\"color\":\"#283442\"}},\"type\":\"scattergl\"}],\"scattermapbox\":[{\"marker\":{\"colorbar\":{\"outlinewidth\":0,\"ticks\":\"\"}},\"type\":\"scattermapbox\"}],\"scatterpolargl\":[{\"marker\":{\"colorbar\":{\"outlinewidth\":0,\"ticks\":\"\"}},\"type\":\"scatterpolargl\"}],\"scatterpolar\":[{\"marker\":{\"colorbar\":{\"outlinewidth\":0,\"ticks\":\"\"}},\"type\":\"scatterpolar\"}],\"scatter\":[{\"marker\":{\"line\":{\"color\":\"#283442\"}},\"type\":\"scatter\"}],\"scatterternary\":[{\"marker\":{\"colorbar\":{\"outlinewidth\":0,\"ticks\":\"\"}},\"type\":\"scatterternary\"}],\"surface\":[{\"colorbar\":{\"outlinewidth\":0,\"ticks\":\"\"},\"colorscale\":[[0.0,\"#0d0887\"],[0.1111111111111111,\"#46039f\"],[0.2222222222222222,\"#7201a8\"],[0.3333333333333333,\"#9c179e\"],[0.4444444444444444,\"#bd3786\"],[0.5555555555555556,\"#d8576b\"],[0.6666666666666666,\"#ed7953\"],[0.7777777777777778,\"#fb9f3a\"],[0.8888888888888888,\"#fdca26\"],[1.0,\"#f0f921\"]],\"type\":\"surface\"}],\"table\":[{\"cells\":{\"fill\":{\"color\":\"#506784\"},\"line\":{\"color\":\"rgb(17,17,17)\"}},\"header\":{\"fill\":{\"color\":\"#2a3f5f\"},\"line\":{\"color\":\"rgb(17,17,17)\"}},\"type\":\"table\"}]},\"layout\":{\"annotationdefaults\":{\"arrowcolor\":\"#f2f5fa\",\"arrowhead\":0,\"arrowwidth\":1},\"autotypenumbers\":\"strict\",\"coloraxis\":{\"colorbar\":{\"outlinewidth\":0,\"ticks\":\"\"}},\"colorscale\":{\"diverging\":[[0,\"#8e0152\"],[0.1,\"#c51b7d\"],[0.2,\"#de77ae\"],[0.3,\"#f1b6da\"],[0.4,\"#fde0ef\"],[0.5,\"#f7f7f7\"],[0.6,\"#e6f5d0\"],[0.7,\"#b8e186\"],[0.8,\"#7fbc41\"],[0.9,\"#4d9221\"],[1,\"#276419\"]],\"sequential\":[[0.0,\"#0d0887\"],[0.1111111111111111,\"#46039f\"],[0.2222222222222222,\"#7201a8\"],[0.3333333333333333,\"#9c179e\"],[0.4444444444444444,\"#bd3786\"],[0.5555555555555556,\"#d8576b\"],[0.6666666666666666,\"#ed7953\"],[0.7777777777777778,\"#fb9f3a\"],[0.8888888888888888,\"#fdca26\"],[1.0,\"#f0f921\"]],\"sequentialminus\":[[0.0,\"#0d0887\"],[0.1111111111111111,\"#46039f\"],[0.2222222222222222,\"#7201a8\"],[0.3333333333333333,\"#9c179e\"],[0.4444444444444444,\"#bd3786\"],[0.5555555555555556,\"#d8576b\"],[0.6666666666666666,\"#ed7953\"],[0.7777777777777778,\"#fb9f3a\"],[0.8888888888888888,\"#fdca26\"],[1.0,\"#f0f921\"]]},\"colorway\":[\"#636efa\",\"#EF553B\",\"#00cc96\",\"#ab63fa\",\"#FFA15A\",\"#19d3f3\",\"#FF6692\",\"#B6E880\",\"#FF97FF\",\"#FECB52\"],\"font\":{\"color\":\"#f2f5fa\"},\"geo\":{\"bgcolor\":\"rgb(17,17,17)\",\"lakecolor\":\"rgb(17,17,17)\",\"landcolor\":\"rgb(17,17,17)\",\"showlakes\":true,\"showland\":true,\"subunitcolor\":\"#506784\"},\"hoverlabel\":{\"align\":\"left\"},\"hovermode\":\"closest\",\"mapbox\":{\"style\":\"dark\"},\"paper_bgcolor\":\"rgb(17,17,17)\",\"plot_bgcolor\":\"rgb(17,17,17)\",\"polar\":{\"angularaxis\":{\"gridcolor\":\"#506784\",\"linecolor\":\"#506784\",\"ticks\":\"\"},\"bgcolor\":\"rgb(17,17,17)\",\"radialaxis\":{\"gridcolor\":\"#506784\",\"linecolor\":\"#506784\",\"ticks\":\"\"}},\"scene\":{\"xaxis\":{\"backgroundcolor\":\"rgb(17,17,17)\",\"gridcolor\":\"#506784\",\"gridwidth\":2,\"linecolor\":\"#506784\",\"showbackground\":true,\"ticks\":\"\",\"zerolinecolor\":\"#C8D4E3\"},\"yaxis\":{\"backgroundcolor\":\"rgb(17,17,17)\",\"gridcolor\":\"#506784\",\"gridwidth\":2,\"linecolor\":\"#506784\",\"showbackground\":true,\"ticks\":\"\",\"zerolinecolor\":\"#C8D4E3\"},\"zaxis\":{\"backgroundcolor\":\"rgb(17,17,17)\",\"gridcolor\":\"#506784\",\"gridwidth\":2,\"linecolor\":\"#506784\",\"showbackground\":true,\"ticks\":\"\",\"zerolinecolor\":\"#C8D4E3\"}},\"shapedefaults\":{\"line\":{\"color\":\"#f2f5fa\"}},\"sliderdefaults\":{\"bgcolor\":\"#C8D4E3\",\"bordercolor\":\"rgb(17,17,17)\",\"borderwidth\":1,\"tickwidth\":0},\"ternary\":{\"aaxis\":{\"gridcolor\":\"#506784\",\"linecolor\":\"#506784\",\"ticks\":\"\"},\"baxis\":{\"gridcolor\":\"#506784\",\"linecolor\":\"#506784\",\"ticks\":\"\"},\"bgcolor\":\"rgb(17,17,17)\",\"caxis\":{\"gridcolor\":\"#506784\",\"linecolor\":\"#506784\",\"ticks\":\"\"}},\"title\":{\"x\":0.05},\"updatemenudefaults\":{\"bgcolor\":\"#506784\",\"borderwidth\":0},\"xaxis\":{\"automargin\":true,\"gridcolor\":\"#283442\",\"linecolor\":\"#506784\",\"ticks\":\"\",\"title\":{\"standoff\":15},\"zerolinecolor\":\"#283442\",\"zerolinewidth\":2},\"yaxis\":{\"automargin\":true,\"gridcolor\":\"#283442\",\"linecolor\":\"#506784\",\"ticks\":\"\",\"title\":{\"standoff\":15},\"zerolinecolor\":\"#283442\",\"zerolinewidth\":2}}},\"xaxis\":{\"anchor\":\"y\",\"domain\":[0.0,0.94]},\"yaxis\":{\"anchor\":\"x\",\"domain\":[0.0,1.0]},\"yaxis2\":{\"anchor\":\"x\",\"overlaying\":\"y\",\"side\":\"right\"},\"shapes\":[{\"line\":{\"color\":\"red\",\"dash\":\"dash\"},\"opacity\":0.2,\"type\":\"line\",\"x0\":2022,\"x1\":2022,\"xref\":\"x\",\"y0\":0,\"y1\":1,\"yref\":\"y domain\"},{\"line\":{\"color\":\"gold\",\"dash\":\"dash\"},\"opacity\":0.2,\"type\":\"line\",\"x0\":0,\"x1\":1,\"xref\":\"x domain\",\"y0\":3832.3278688524592,\"y1\":3832.3278688524592,\"yref\":\"y\"}],\"annotations\":[{\"showarrow\":false,\"text\":\"Veri Toplama Tarihi\",\"x\":2022,\"xanchor\":\"left\",\"xref\":\"x\",\"y\":1,\"yanchor\":\"top\",\"yref\":\"y domain\"},{\"showarrow\":false,\"text\":\"Y\\u0131ll\\u0131k Ortalama: 3832\",\"x\":0.085,\"xanchor\":\"right\",\"xref\":\"x domain\",\"y\":3832.3278688524592,\"yanchor\":\"bottom\",\"yref\":\"y\"}],\"title\":{\"text\":\"Sosyal Bilimler Tezlerinin Y\\u0131llara Da\\u011f\\u0131l\\u0131m\\u0131\"},\"hovermode\":\"x\"},                        {\"responsive\": true}                    ).then(function(){\n",
       "                            \n",
       "var gd = document.getElementById('1609157c-e4f2-4cc1-a4bb-890796caa462');\n",
       "var x = new MutationObserver(function (mutations, observer) {{\n",
       "        var display = window.getComputedStyle(gd).display;\n",
       "        if (!display || display === 'none') {{\n",
       "            console.log([gd, 'removed!']);\n",
       "            Plotly.purge(gd);\n",
       "            observer.disconnect();\n",
       "        }}\n",
       "}});\n",
       "\n",
       "// Listen for the removal of the full notebook cells\n",
       "var notebookContainer = gd.closest('#notebook-container');\n",
       "if (notebookContainer) {{\n",
       "    x.observe(notebookContainer, {childList: true});\n",
       "}}\n",
       "\n",
       "// Listen for the clearing of the current output cell\n",
       "var outputEl = gd.closest('.output');\n",
       "if (outputEl) {{\n",
       "    x.observe(outputEl, {childList: true});\n",
       "}}\n",
       "\n",
       "                        })                };                });            </script>        </div>"
      ]
     },
     "metadata": {},
     "output_type": "display_data"
    }
   ],
   "source": [
    "fig = make_subplots(specs=[[{'secondary_y':True}]])\n",
    "fig.add_bar(x=sb.groupby('yıl')['tez_adı_tr'].agg('count').index, y=sb.groupby('yıl')['tez_adı_tr'].agg('count').values , name='Sosyal Bilimler Tez Sayısı' )\n",
    "fig.add_scatter(x=sb.groupby('yıl')['tez_adı_tr'].agg('count').index, \n",
    "                y=sb.groupby('yıl')['tez_adı_tr'].agg('count').values / df.loc[ (df.yıl<=sb.yıl.max()) & (df.yıl>sb.yıl.min()) ].groupby('yıl')['tez_adı_tr'].agg('count').values *100, \n",
    "                secondary_y=True,\n",
    "                mode='lines+markers', \n",
    "                line=dict({'width':2.5, 'smoothing':1.3}), \n",
    "                name='Yüzdelik Dilim')\n",
    "fig.add_vline(x=2022, annotation= go.layout.Annotation(text='Veri Toplama Tarihi' ),  line_dash='dash', opacity=0.2, line_color='red')\n",
    "fig.add_hline(y=sb.groupby('yıl')['tez_adı_tr'].agg('count').mean(), annotation= go.layout.Annotation(text=f\"Yıllık Ortalama: {sb.groupby('yıl')['tez_adı_tr'].agg('count').mean():.0f}\" , xref='x', x=0.085),line_dash='dash', opacity=0.2, line_color='gold')\n",
    "fig.update_layout(title='Sosyal Bilimler Tezlerinin Yıllara Dağılımı', hovermode='x', template='plotly_dark' )\n",
    "fig.show()"
   ]
  },
  {
   "cell_type": "code",
   "execution_count": 10,
   "metadata": {
    "jupyter": {
     "source_hidden": true
    },
    "slideshow": {
     "slide_type": "slide"
    },
    "tags": []
   },
   "outputs": [
    {
     "data": {
      "text/plain": [
       "<Axes: xlabel='yıl'>"
      ]
     },
     "execution_count": 10,
     "metadata": {},
     "output_type": "execute_result"
    },
    {
     "data": {
      "image/png": "[encoded data removed]",
      "text/plain": [
       "<Figure size 640x480 with 1 Axes>"
      ]
     },
     "metadata": {},
     "output_type": "display_data"
    }
   ],
   "source": [
    "sb.loc[sb['üniversite'].str.contains('İstanbul Üniversitesi')].groupby('yıl').agg({'yıl': 'count'}).plot()"
   ]
  }
 ],
 "metadata": {
  "kernelspec": {
   "display_name": "Python 3 (ipykernel)",
   "language": "python",
   "name": "python3"
  },
  "language_info": {
   "codemirror_mode": {
    "name": "ipython",
    "version": 3
   },
   "file_extension": ".py",
   "mimetype": "text/x-python",
   "name": "python",
   "nbconvert_exporter": "python",
   "pygments_lexer": "ipython3",
   "version": "3.10.10"
  }
 },
 "nbformat": 4,
 "nbformat_minor": 4
}
